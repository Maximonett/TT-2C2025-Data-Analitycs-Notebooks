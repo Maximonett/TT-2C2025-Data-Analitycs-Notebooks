{
  "nbformat": 4,
  "nbformat_minor": 0,
  "metadata": {
    "colab": {
      "provenance": []
    },
    "kernelspec": {
      "name": "python3",
      "display_name": "Python 3"
    },
    "language_info": {
      "name": "python"
    }
  },
  "cells": [
    {
      "cell_type": "markdown",
      "source": [
        "# Listas y diccionarios por comprension"
      ],
      "metadata": {
        "id": "MhDsyzb9wOHj"
      }
    },
    {
      "cell_type": "markdown",
      "source": [
        "Objetivo:\n",
        "* Aprender a crear estructuras de datos con funciones compactas y\n",
        "eficientes."
      ],
      "metadata": {
        "id": "IK8-7qQZwQE7"
      }
    },
    {
      "cell_type": "markdown",
      "source": [
        "## Listas por comprensión"
      ],
      "metadata": {
        "id": "YdPxHL9bUgCJ"
      }
    },
    {
      "cell_type": "markdown",
      "source": [
        "Las list comprehensions ofrecen una forma elegante y concisa de crear listas a\n",
        "partir de otras listas.\n",
        "<BR>\n",
        "Utilizan una sintaxis compacta que permite aplicar una\n",
        "operación a cada elemento de una colección y crear una nueva lista en una sola\n",
        "línea."
      ],
      "metadata": {
        "id": "aB-vGLetUsFC"
      }
    },
    {
      "cell_type": "code",
      "source": [
        "# Dada la lista numeros, creamos la lista cuadrados,\n",
        "# que contiene el cuadrado de cada elemento de la lista original\n",
        "numeros = [1, 2, 3, 4, 5]\n",
        "cuadrados = [x**2 for x in numeros]\n",
        "print(cuadrados) # Imprime: [1, 4, 9, 16, 25]"
      ],
      "metadata": {
        "colab": {
          "base_uri": "https://localhost:8080/"
        },
        "id": "M1iBSBz3UqlS",
        "outputId": "a81be1de-0b60-4497-9a42-ab48b7819e62"
      },
      "execution_count": null,
      "outputs": [
        {
          "output_type": "stream",
          "name": "stdout",
          "text": [
            "[1, 4, 9, 16, 25]\n"
          ]
        }
      ]
    },
    {
      "cell_type": "code",
      "source": [
        "# Dada la lista numeros, creamos la lista pares,\n",
        "# que contiene los elementos pares de la lista original\n",
        "numeros = [1, 2, 3, 4, 5]\n",
        "numeros_pares = [x for x in numeros if x%2 == 0]\n",
        "print(numeros_pares) # Imprime: [2, 4]"
      ],
      "metadata": {
        "colab": {
          "base_uri": "https://localhost:8080/"
        },
        "id": "JVOID3j4U_SC",
        "outputId": "dcd50184-1f0c-43cc-be1a-d33929745f92"
      },
      "execution_count": null,
      "outputs": [
        {
          "output_type": "stream",
          "name": "stdout",
          "text": [
            "[2, 4]\n"
          ]
        }
      ]
    },
    {
      "cell_type": "code",
      "source": [
        "# Dada la lista numeros, creamos la lista numeros_procesados,\n",
        "# que contiene:\n",
        "# los elementos pares de la lista original sin tratamiento\n",
        "# los elementos impares elevamos al cuadrado\n",
        "numeros = [1, 2, 3, 4, 5]\n",
        "cuadrados = [x if x%2 == 0 else x**2 for x in numeros ]\n",
        "print(cuadrados) # Imprime: [1, 2, 9, 4, 25]"
      ],
      "metadata": {
        "colab": {
          "base_uri": "https://localhost:8080/"
        },
        "id": "HsWsozo3VVbA",
        "outputId": "7bd8bed6-418a-4600-e116-b6ec5a1ee265"
      },
      "execution_count": null,
      "outputs": [
        {
          "output_type": "stream",
          "name": "stdout",
          "text": [
            "[1, 2, 9, 4, 25]\n"
          ]
        }
      ]
    },
    {
      "cell_type": "markdown",
      "source": [
        "## Diccionarios por comprensión"
      ],
      "metadata": {
        "id": "6afFY4kVV5i3"
      }
    },
    {
      "cell_type": "markdown",
      "source": [
        "De manera similar a las comprensiones de listas, las comprensiones de diccionarios te permiten construir diccionarios de manera compacta. Esto es fundamental cuando quieres transformar o filtrar datos basados en condiciones específicas."
      ],
      "metadata": {
        "id": "pcvVVME1V8uj"
      }
    },
    {
      "cell_type": "code",
      "source": [
        "numeros = [-1, 2, 3, 4, 5]\n",
        "cuadrados_dict = {i: v for i,v in enumerate(numeros)} # Mtira como clave el número y como valor su cuadrado\n",
        "print(cuadrados_dict) # Imprime: {1: 1, 2: 4, 3: 9, 4: 16, 5: 25}"
      ],
      "metadata": {
        "colab": {
          "base_uri": "https://localhost:8080/"
        },
        "id": "JHtGZUU_WDkJ",
        "outputId": "21fc8567-1037-475a-b61c-bbc4398fd99c"
      },
      "execution_count": null,
      "outputs": [
        {
          "output_type": "stream",
          "name": "stdout",
          "text": [
            "{0: -1, 1: 2, 2: 3, 3: 4, 4: 5}\n"
          ]
        }
      ]
    },
    {
      "cell_type": "code",
      "source": [
        "numeros = [1, 2, 3, 4, 5]\n",
        "cuadrados_dict = {x: x**2 for x in numeros} # Mtira como clave el número y como valor su cuadrado\n",
        "print(cuadrados_dict) # Imprime: {1: 1, 2: 4, 3: 9, 4: 16, 5: 25}"
      ],
      "metadata": {
        "colab": {
          "base_uri": "https://localhost:8080/"
        },
        "outputId": "3bbc17a1-709b-4126-f83c-219bc0e8a178",
        "id": "cIMrD486Wchq"
      },
      "execution_count": null,
      "outputs": [
        {
          "output_type": "stream",
          "name": "stdout",
          "text": [
            "{1: 1, 2: 4, 3: 9, 4: 16, 5: 25}\n"
          ]
        }
      ]
    }
  ]
}