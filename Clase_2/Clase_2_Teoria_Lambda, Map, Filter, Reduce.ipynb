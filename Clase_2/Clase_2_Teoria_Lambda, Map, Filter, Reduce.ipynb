{
  "nbformat": 4,
  "nbformat_minor": 0,
  "metadata": {
    "colab": {
      "provenance": [],
      "collapsed_sections": [
        "FrdTD7lZ5i85",
        "phuvBP-_OfVt",
        "EBJrFcNjhPJ_",
        "YdPxHL9bUgCJ",
        "vGmdIx-jdpMH",
        "Hd17_RP1gE_H"
      ]
    },
    "kernelspec": {
      "name": "python3",
      "display_name": "Python 3"
    },
    "language_info": {
      "name": "python"
    }
  },
  "cells": [
    {
      "cell_type": "markdown",
      "source": [
        "# Funciones lambda, Map, Filter y Reduce\n"
      ],
      "metadata": {
        "id": "MhDsyzb9wOHj"
      }
    },
    {
      "cell_type": "markdown",
      "source": [],
      "metadata": {
        "id": "KAxKFlMNeDkr"
      }
    },
    {
      "cell_type": "markdown",
      "source": [
        "Objetivo:\n",
        "* Introducir el paradigma de programación funcional en Python mostrando cómo usar funciones anónimas (lambda) y funciones de orden superior (map, filter, reduce) para escribir código más expresivo, compacto y flexible."
      ],
      "metadata": {
        "id": "IK8-7qQZwQE7"
      }
    },
    {
      "cell_type": "markdown",
      "source": [
        "## 1 Funciones - repaso"
      ],
      "metadata": {
        "id": "HaGk0u0HyUCB"
      }
    },
    {
      "cell_type": "markdown",
      "source": [
        "Las funciones en Python se declaran con la palabra reservada def.\n",
        "<BR>\n",
        "Pueden o no recibir argumentos, y de la misma manera no tiene necesariamente que retornan un valor.\n",
        "<BR>\n",
        "En nuestro caso, analicemos un ejemplo que recibo 2 argumentos y retorna 1 resultado a través de la función sumar:"
      ],
      "metadata": {
        "id": "uYxF9s-vcQhy"
      }
    },
    {
      "cell_type": "markdown",
      "source": [
        "### 1.1 Estructura"
      ],
      "metadata": {
        "id": "FrdTD7lZ5i85"
      }
    },
    {
      "cell_type": "code",
      "source": [
        "# Definción de una función con parámetros y argumentos\n",
        "def sumar(num1, num2):\n",
        "  return num1+num2\n",
        "\n",
        "print(\"La suma de 2 y 3 es: \", sumar(2,3))"
      ],
      "metadata": {
        "id": "Uhag38rUybyV"
      },
      "execution_count": null,
      "outputs": []
    },
    {
      "cell_type": "markdown",
      "source": [
        "## Funciones Lambda"
      ],
      "metadata": {
        "id": "phuvBP-_OfVt"
      }
    },
    {
      "cell_type": "markdown",
      "source": [
        "Las funciones lambda son una forma concisa de definir\n",
        "funciones pequeñas y anónimas en Python.\n",
        "Se utilizan comúnmente para operaciones rápidas y se definen con la palabra clave lambda. Estas funciones son particularmente útiles en combinación con funciones de orden superior como map() y filter().\n",
        "<BR>\n",
        "Las funciones lambda permiten crear funciones en línea sin necesidad de definirlas\n",
        "completamente con def."
      ],
      "metadata": {
        "id": "MzNYyKatOjhe"
      }
    },
    {
      "cell_type": "code",
      "source": [
        "sumar_lambda = lambda num1, num2 : num1 + num2\n",
        "\n",
        "print(\"La suma de 2 y 3 es: \", sumar_lambda(2,3))"
      ],
      "metadata": {
        "id": "spBksZ1POpFC"
      },
      "execution_count": null,
      "outputs": []
    },
    {
      "cell_type": "code",
      "source": [
        "cambiar_lamda= lambda num1,num2:num1*50/num2\n",
        "print(\"El resultado es: \",cambiar_lamda(2,3))"
      ],
      "metadata": {
        "id": "T9aNRwBzgE6r",
        "outputId": "36e8489b-c2eb-40be-f738-c7d3051534d9",
        "colab": {
          "base_uri": "https://localhost:8080/"
        }
      },
      "execution_count": 1,
      "outputs": [
        {
          "output_type": "stream",
          "name": "stdout",
          "text": [
            "El resultado es:  33.333333333333336\n"
          ]
        }
      ]
    },
    {
      "cell_type": "markdown",
      "source": [
        "### Uso de lambda como argumento"
      ],
      "metadata": {
        "id": "EBJrFcNjhPJ_"
      }
    },
    {
      "cell_type": "markdown",
      "source": [
        "Supongamos que tenemos una lista de diccionarios con los datos de un grupo de estudiantes. En ese caso no podemos usar el método sort() para ordenar nuestro arreglo, ahí podemos usar la función `sorted()` y pasar el criterio de ordenamiento a través de una función lambda.\n",
        "<BR>\n",
        "Sintáxis:\n",
        "<BR>\n",
        "`sorted(iterable, key=)`\n",
        "<BR>\n",
        "`sorted(iterable, key=, reverse= True)`"
      ],
      "metadata": {
        "id": "i5QjT7cKhVnc"
      }
    },
    {
      "cell_type": "code",
      "source": [
        "lista_librerias=[\"numpy\",\"pandas\",\"matplotlib\",\"seaborn\",\"scikit-learn\",\"tensorflow\",\"keras\",\"pytorch\"]\n",
        "lista_librerias.sort()\n",
        "print(lista_librerias)\n",
        "\n",
        "lista_numero=[1,2,3,4,5,6,7,8,9,10]\n",
        "lista_numero.sort()\n",
        "print(lista_numero)"
      ],
      "metadata": {
        "id": "xlWQ93tdgb2F",
        "outputId": "ce94fe44-00ea-4ad9-df2f-866b474db34d",
        "colab": {
          "base_uri": "https://localhost:8080/"
        }
      },
      "execution_count": 6,
      "outputs": [
        {
          "output_type": "stream",
          "name": "stdout",
          "text": [
            "['keras', 'matplotlib', 'numpy', 'pandas', 'pytorch', 'scikit-learn', 'seaborn', 'tensorflow']\n",
            "[1, 2, 3, 4, 5, 6, 7, 8, 9, 10]\n"
          ]
        }
      ]
    },
    {
      "cell_type": "code",
      "source": [
        "# Dada una lista de diccionarios:\n",
        "estudiantes = [\n",
        "    {'nombre': 'Alan',\n",
        "     'edad': 23},\n",
        "    {'nombre': 'Kemi',\n",
        "     'edad': 18},\n",
        "    {'nombre': 'Mike',\n",
        "     'edad': 21}]\n",
        "\n",
        "# Usamos sorted(iterable, key=)\n",
        "estudiantes_sorted = sorted(estudiantes, key=lambda estudiante: estudiante['edad']) # primer argumento es el diccionario y el segundo arguento es una fucnion lamba de ordenar por el criterio de edad.\n",
        "print(estudiantes_sorted)\n",
        "# Usamos sorted(iterable, key=, reverse=True)\n",
        "estudiantes_sorted_reverse = sorted(estudiantes, key=lambda estudiante: estudiante['edad'], reverse= True) #solo hace la reversa de al condicion de orden\n",
        "print(estudiantes_sorted_reverse)\n"
      ],
      "metadata": {
        "id": "wpvtmvppiZJn",
        "outputId": "a3ead1e6-cde3-4439-8435-55ae82d14d26",
        "colab": {
          "base_uri": "https://localhost:8080/"
        }
      },
      "execution_count": 7,
      "outputs": [
        {
          "output_type": "stream",
          "name": "stdout",
          "text": [
            "[{'nombre': 'Kemi', 'edad': 18}, {'nombre': 'Mike', 'edad': 21}, {'nombre': 'Alan', 'edad': 23}]\n",
            "[{'nombre': 'Alan', 'edad': 23}, {'nombre': 'Mike', 'edad': 21}, {'nombre': 'Kemi', 'edad': 18}]\n"
          ]
        }
      ]
    },
    {
      "cell_type": "markdown",
      "source": [
        "## Map"
      ],
      "metadata": {
        "id": "YdPxHL9bUgCJ"
      }
    },
    {
      "cell_type": "markdown",
      "source": [
        "Map aplica una función a cada elemento de un iterable (lista, tupla, etc.) y devuelve un objeto tipo map (que se puede convertir a lista).\n",
        "<BR>\n",
        "Sintáxis:\n",
        "<BR>\n",
        "`map(función, iterable)`\n",
        "\n",
        "* función → puede ser una función normal o una lambda.\n",
        "* iterable → lista, tupla, string, etc."
      ],
      "metadata": {
        "id": "aB-vGLetUsFC"
      }
    },
    {
      "cell_type": "code",
      "source": [
        "# Dada la lista numeros, creamos la lista cuadrados,\n",
        "# que contiene el cuadrado de cada elemento de la lista original\n",
        "numeros = [1, 2, 3, 4, 5]\n",
        "cuadrados = list(map(lambda x: x**2, numeros))\n",
        "print(cuadrados) # Imprime: [1, 4, 9, 16, 25]"
      ],
      "metadata": {
        "id": "M1iBSBz3UqlS",
        "outputId": "5d64a8b3-3599-4c29-f356-7fb5c18fce6f",
        "colab": {
          "base_uri": "https://localhost:8080/"
        }
      },
      "execution_count": 8,
      "outputs": [
        {
          "output_type": "stream",
          "name": "stdout",
          "text": [
            "[1, 4, 9, 16, 25]\n"
          ]
        }
      ]
    },
    {
      "cell_type": "markdown",
      "source": [
        "## Filter"
      ],
      "metadata": {
        "id": "vGmdIx-jdpMH"
      }
    },
    {
      "cell_type": "markdown",
      "source": [
        "Filter devuelve un iterador con los elementos del iterable que cumplen una condición (la función debe devolver True o False).\n",
        "<BR>\n",
        "Sintáxis:\n",
        "`filter(función, iterable) `\n",
        "* función → recibe un elemento y devuelve True si se conserva, False si se descarta.\n",
        "* iterable → lista, tupla, string, etc."
      ],
      "metadata": {
        "id": "ExyAyq2jfm3h"
      }
    },
    {
      "cell_type": "code",
      "source": [
        "# Dada la lista numeros, creamos la lista pares,\n",
        "# que contiene los elementos pares de la lista original\n",
        "numeros = [1, 2, 3, 4, 5]\n",
        "numeros_pares = list(filter(lambda x: x%2 == 0, numeros)) # en este caso filtra la condicion de pares\n",
        "print(numeros_pares) # Imprime: [2, 4]"
      ],
      "metadata": {
        "id": "JVOID3j4U_SC",
        "outputId": "1141c83f-e609-45b2-8411-73496cbc3d0c",
        "colab": {
          "base_uri": "https://localhost:8080/"
        }
      },
      "execution_count": 9,
      "outputs": [
        {
          "output_type": "stream",
          "name": "stdout",
          "text": [
            "[2, 4]\n"
          ]
        }
      ]
    },
    {
      "cell_type": "markdown",
      "source": [
        "## Reduce"
      ],
      "metadata": {
        "id": "Hd17_RP1gE_H"
      }
    },
    {
      "cell_type": "markdown",
      "source": [
        "Reduce aplica una función acumuladora de dos argumentos a los elementos de un iterable, reduciéndolo a un solo valor.\n",
        "\n",
        "Sintáxis:\n",
        "`reduce(función, iterable[, valor_inicial])`\n",
        "\n",
        "* función → recibe 2 argumentos: el acumulador y el siguiente elemento.\n",
        "* iterable → lista, tupla, etc.\n",
        "* valor_inicial (opcional) → valor inicial del acumulador.\n",
        "\n",
        "En Python está en el módulo functools."
      ],
      "metadata": {
        "id": "HfVQ0nIEgIYh"
      }
    },
    {
      "cell_type": "code",
      "source": [
        "# Dada la lista numeros, creamos la lista sumatoria,\n",
        "# que contiene:\n",
        "# los elementos pares de la lista original sin tratamiento\n",
        "# los elementos impares elevamos al cuadrado\n",
        "from functools import reduce\n",
        "\n",
        "numeros = [1, 2, 3, 4, 5]\n",
        "sumatoria = reduce(lambda a, b: a + b, numeros)\n",
        "print(sumatoria)  # 15"
      ],
      "metadata": {
        "id": "HsWsozo3VVbA",
        "outputId": "6e8557db-039a-40e4-c4f4-9197a1a12ef9",
        "colab": {
          "base_uri": "https://localhost:8080/"
        }
      },
      "execution_count": 10,
      "outputs": [
        {
          "output_type": "stream",
          "name": "stdout",
          "text": [
            "15\n"
          ]
        }
      ]
    }
  ]
}