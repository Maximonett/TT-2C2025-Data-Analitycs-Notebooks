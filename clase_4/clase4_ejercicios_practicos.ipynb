{
  "nbformat": 4,
  "nbformat_minor": 0,
  "metadata": {
    "colab": {
      "provenance": [],
      "authorship_tag": "ABX9TyMr5KEnGkZeyKOJ2XJ/QZt/",
      "include_colab_link": true
    },
    "kernelspec": {
      "name": "python3",
      "display_name": "Python 3"
    },
    "language_info": {
      "name": "python"
    }
  },
  "cells": [
    {
      "cell_type": "markdown",
      "metadata": {
        "id": "view-in-github",
        "colab_type": "text"
      },
      "source": [
        "<a href=\"https://colab.research.google.com/github/Maximonett/TT-2C2025-Data-Analitycs-Notebooks/blob/main/clase_4/clase4_ejercicios_practicos.ipynb\" target=\"_parent\"><img src=\"https://colab.research.google.com/assets/colab-badge.svg\" alt=\"Open In Colab\"/></a>"
      ]
    },
    {
      "cell_type": "markdown",
      "source": [
        "***ACTIVIDAD 1***\n",
        "\n",
        "**Instrucciones:**\n",
        "\n",
        "1. Descargar el siguiente conjunto de datos: [satis_clientes.csv](https://drive.google.com/file/d/169MG1sSG8IqTtLdJwIlnBOhMkF_CN_Tb/view?usp=drive_link).\n",
        "2. Cargar los datos en un DataFrame en Python usando Pandas.\n",
        "Utilizar el método `isnull()` para identificar las filas con datos faltantes y contar el número de valores nulos por columna.\n",
        "3. Usar el método `duplicated()` para identificar las filas duplicadas y contar cuántas filas duplicadas hay en total.\n",
        "4. Crear un informe que incluya:\n",
        "  * La cantidad total de registros en el DataFrame.\n",
        "  * La cantidad total de valores nulos por columna.\n",
        "  * La cantidad de filas duplicadas.\n",
        "  * Un subconjunto de los registros duplicados para que se vea el contenido.\n"
      ],
      "metadata": {
        "id": "GqLYHgQCyZLg"
      }
    },
    {
      "cell_type": "code",
      "source": [
        "import numpy as np\n",
        "import pandas as pd"
      ],
      "metadata": {
        "id": "WzUL1JlZynjN"
      },
      "execution_count": 5,
      "outputs": []
    },
    {
      "cell_type": "markdown",
      "source": [
        "La función pd.isnulll() detecta valores nulos (como NaN, None, etc.) y devuelve True si el valor es nulo, o False si no lo es."
      ],
      "metadata": {
        "id": "qLq6CjF9y_Pn"
      }
    },
    {
      "cell_type": "code",
      "source": [
        "na=np.nan\n",
        "print(type(na))"
      ],
      "metadata": {
        "colab": {
          "base_uri": "https://localhost:8080/"
        },
        "id": "ntcfEqZNzEYY",
        "outputId": "3d39e49b-91e6-4fef-bef4-4e11c514762c"
      },
      "execution_count": 6,
      "outputs": [
        {
          "output_type": "stream",
          "name": "stdout",
          "text": [
            "<class 'float'>\n"
          ]
        }
      ]
    },
    {
      "cell_type": "code",
      "source": [
        "pd.isnull(np.nan)"
      ],
      "metadata": {
        "colab": {
          "base_uri": "https://localhost:8080/"
        },
        "id": "jfDMZ1yNzPwf",
        "outputId": "494cec18-530d-4368-9a02-88414b1ed851"
      },
      "execution_count": 7,
      "outputs": [
        {
          "output_type": "execute_result",
          "data": {
            "text/plain": [
              "True"
            ]
          },
          "metadata": {},
          "execution_count": 7
        }
      ]
    },
    {
      "cell_type": "code",
      "source": [
        "pd.isnull(None)"
      ],
      "metadata": {
        "colab": {
          "base_uri": "https://localhost:8080/"
        },
        "id": "OscB1ZUgzcR2",
        "outputId": "51f0212e-5c73-4427-b5e9-dbf4198ae8a0"
      },
      "execution_count": 9,
      "outputs": [
        {
          "output_type": "execute_result",
          "data": {
            "text/plain": [
              "True"
            ]
          },
          "metadata": {},
          "execution_count": 9
        }
      ]
    },
    {
      "cell_type": "markdown",
      "source": [
        "La función pd.isna() en pandas se utiliza para detectar valores nulos (missing values) en objetos, como NaN, None, etc."
      ],
      "metadata": {
        "id": "oQJmMxhJzwI-"
      }
    },
    {
      "cell_type": "code",
      "source": [
        "pd.isna(np.nan)"
      ],
      "metadata": {
        "colab": {
          "base_uri": "https://localhost:8080/"
        },
        "id": "aMrZdPHvzu20",
        "outputId": "4920fe0a-e5b9-4cb3-86b5-16a3aae07192"
      },
      "execution_count": 10,
      "outputs": [
        {
          "output_type": "execute_result",
          "data": {
            "text/plain": [
              "True"
            ]
          },
          "metadata": {},
          "execution_count": 10
        }
      ]
    },
    {
      "cell_type": "code",
      "source": [
        "pd.isna(None)\n",
        "## Tambien se puede usar con Series\n",
        "pd.isna(pd.Series([1,2,np.nan,4]))"
      ],
      "metadata": {
        "colab": {
          "base_uri": "https://localhost:8080/",
          "height": 210
        },
        "id": "XTeIfG3vz3cE",
        "outputId": "d6704642-6e58-4803-9e06-4b47a95e5e45"
      },
      "execution_count": 12,
      "outputs": [
        {
          "output_type": "execute_result",
          "data": {
            "text/plain": [
              "0    False\n",
              "1    False\n",
              "2     True\n",
              "3    False\n",
              "dtype: bool"
            ],
            "text/html": [
              "<div>\n",
              "<style scoped>\n",
              "    .dataframe tbody tr th:only-of-type {\n",
              "        vertical-align: middle;\n",
              "    }\n",
              "\n",
              "    .dataframe tbody tr th {\n",
              "        vertical-align: top;\n",
              "    }\n",
              "\n",
              "    .dataframe thead th {\n",
              "        text-align: right;\n",
              "    }\n",
              "</style>\n",
              "<table border=\"1\" class=\"dataframe\">\n",
              "  <thead>\n",
              "    <tr style=\"text-align: right;\">\n",
              "      <th></th>\n",
              "      <th>0</th>\n",
              "    </tr>\n",
              "  </thead>\n",
              "  <tbody>\n",
              "    <tr>\n",
              "      <th>0</th>\n",
              "      <td>False</td>\n",
              "    </tr>\n",
              "    <tr>\n",
              "      <th>1</th>\n",
              "      <td>False</td>\n",
              "    </tr>\n",
              "    <tr>\n",
              "      <th>2</th>\n",
              "      <td>True</td>\n",
              "    </tr>\n",
              "    <tr>\n",
              "      <th>3</th>\n",
              "      <td>False</td>\n",
              "    </tr>\n",
              "  </tbody>\n",
              "</table>\n",
              "</div><br><label><b>dtype:</b> bool</label>"
            ]
          },
          "metadata": {},
          "execution_count": 12
        }
      ]
    },
    {
      "cell_type": "markdown",
      "source": [
        "Sí, **`np.nan`** (Not a Number) de la librería **NumPy** en Python es la forma estándar de representar un **valor faltante o indefinido**, y en el contexto de análisis de datos y computación científica, se le considera un **valor nulo**.\n",
        "\n",
        "---\n",
        "\n",
        "## **Contexto y Uso de `np.nan`**\n",
        "\n",
        "* **Definición:** `np.nan` es un valor especial de **coma flotante** (`float`) que se utiliza para indicar que un valor no está disponible (es nulo), no es aplicable o es matemáticamente indefinido (como el resultado de dividir $0/0$ o $\\infty - \\infty$).\n",
        "* **Valor Nulo:** Aunque técnicamente es un valor de punto flotante, en la práctica es el marcador de \"nulo\" o \"perdido\" más común y aceptado en el ecosistema de Python, especialmente en librerías como **NumPy** y **pandas**.\n",
        "* **Importancia en pandas:** En la librería **pandas**, que está construida sobre NumPy, `np.nan` es el marcador principal para datos faltantes en Series y DataFrames.\n",
        "\n",
        "---\n",
        "\n",
        "## **Distinción Importante: `None` vs. `np.nan`**\n",
        "\n",
        "Es importante notar la diferencia con el valor incorporado de Python **`None`**:\n",
        "\n",
        "| Característica | `np.nan` | `None` |\n",
        "| :--- | :--- | :--- |\n",
        "| **Tipo de Dato** | Coma flotante (`float`) | Objeto `NoneType` |\n",
        "| **Uso Principal** | Marcar datos **faltantes** o **nulos** en *arrays* numéricos (NumPy, pandas). | Ausencia de **valor** o **referencia** en Python general. |\n",
        "| **Comportamiento** | Se **propaga** en operaciones matemáticas. $\\text{Ej: } 5 + \\text{nan} = \\text{nan}$ | Genera errores (`TypeError`) en operaciones matemáticas. $\\text{Ej: } 5 + \\text{None}$ |\n",
        "| **Chequeo de Nulidad** | `np.isnan(valor)` o `valor != valor` | `valor is None` |\n"
      ],
      "metadata": {
        "id": "oG3C0dg-1c1W"
      }
    }
  ]
}