{
  "nbformat": 4,
  "nbformat_minor": 0,
  "metadata": {
    "colab": {
      "provenance": [],
      "toc_visible": true
    },
    "kernelspec": {
      "name": "python3",
      "display_name": "Python 3"
    },
    "language_info": {
      "name": "python"
    }
  },
  "cells": [
    {
      "cell_type": "markdown",
      "source": [
        "# Tecnicas para limpieza de datos"
      ],
      "metadata": {
        "id": "coxpELWGHydE"
      }
    },
    {
      "cell_type": "markdown",
      "source": [
        "1. Eliminar duplicados\n",
        "`drop_duplicates()`\n",
        "2. Eliminar caracteres no deseados\n",
        "`str.replace()`\n",
        "3. Corrección del tipo de dato\n",
        "df[ “campo” ].astype(float) [texto del enlace](https://)\n",
        "4. Manejo de datos faltantes\n",
        "`dropna()`\n",
        "`fillna()`\n",
        "5. Normalización de datos\n",
        "`.str.strip().lower()`\n",
        "6. Filtrado de datos\n",
        "`df [ df[“campo”] + condición ]`\n"
      ],
      "metadata": {
        "id": "C2-trU9kH3CD"
      }
    },
    {
      "cell_type": "markdown",
      "source": [
        "## Importamos algunos datasets para explorar"
      ],
      "metadata": {
        "id": "YMopub5oINB3"
      }
    },
    {
      "cell_type": "code",
      "source": [
        "# Importar la librería Pandas\n",
        "import pandas as pd"
      ],
      "metadata": {
        "id": "RfKtSouMJgGm"
      },
      "execution_count": 2,
      "outputs": []
    },
    {
      "cell_type": "code",
      "source": [
        "# Montar la unidad\n",
        "from google.colab import drive\n",
        "drive.mount('/content/drive')"
      ],
      "metadata": {
        "id": "7crL5focIWRd",
        "colab": {
          "base_uri": "https://localhost:8080/"
        },
        "outputId": "e32b9395-c2e9-42e4-a8b1-3bb2f08bb793"
      },
      "execution_count": 3,
      "outputs": [
        {
          "output_type": "stream",
          "name": "stdout",
          "text": [
            "Mounted at /content/drive\n"
          ]
        }
      ]
    },
    {
      "cell_type": "code",
      "source": [
        "# Verificar que los archivos csv se encuentren en la carpeta datasets\n",
        "import os\n",
        "os.listdir(\"/content/drive/MyDrive/DATASETS\")"
      ],
      "metadata": {
        "id": "dexkg6aTJysV",
        "colab": {
          "base_uri": "https://localhost:8080/"
        },
        "outputId": "f6b3b600-7a9d-4667-bf4f-5975c5ce28f6"
      },
      "execution_count": 4,
      "outputs": [
        {
          "output_type": "execute_result",
          "data": {
            "text/plain": [
              "['reviews.csv',\n",
              " 'hotels.csv',\n",
              " 'users.csv',\n",
              " 'netflix_titles.csv',\n",
              " 'satis_clientes.csv',\n",
              " 'Actividad 2.gsheet']"
            ]
          },
          "metadata": {},
          "execution_count": 4
        }
      ]
    },
    {
      "cell_type": "code",
      "source": [
        "# Importamos el Dataset satis (customer satisfaction)\n",
        "df_satis = pd.read_csv(\"/content/drive/MyDrive/DATASETS/satis_clientes.csv\")\n",
        "df_satis.info()"
      ],
      "metadata": {
        "id": "yZDvce32KpJo",
        "colab": {
          "base_uri": "https://localhost:8080/"
        },
        "outputId": "fb693307-3178-4bf9-b773-49fa704adbd3"
      },
      "execution_count": 6,
      "outputs": [
        {
          "output_type": "stream",
          "name": "stdout",
          "text": [
            "<class 'pandas.core.frame.DataFrame'>\n",
            "RangeIndex: 1128 entries, 0 to 1127\n",
            "Data columns (total 5 columns):\n",
            " #   Column        Non-Null Count  Dtype  \n",
            "---  ------        --------------  -----  \n",
            " 0   id            1128 non-null   int64  \n",
            " 1   Empresa       1128 non-null   object \n",
            " 2   Fecha         1128 non-null   object \n",
            " 3   Calificación  904 non-null    float64\n",
            " 4   Comentarios   818 non-null    object \n",
            "dtypes: float64(1), int64(1), object(3)\n",
            "memory usage: 44.2+ KB\n"
          ]
        }
      ]
    },
    {
      "cell_type": "code",
      "execution_count": 7,
      "metadata": {
        "id": "Ly3Tn2CyGl8S",
        "colab": {
          "base_uri": "https://localhost:8080/"
        },
        "outputId": "29e0ca85-cbf8-4f1f-e4fb-6db5adc66605"
      },
      "outputs": [
        {
          "output_type": "stream",
          "name": "stdout",
          "text": [
            "<class 'pandas.core.frame.DataFrame'>\n",
            "RangeIndex: 8807 entries, 0 to 8806\n",
            "Data columns (total 12 columns):\n",
            " #   Column        Non-Null Count  Dtype \n",
            "---  ------        --------------  ----- \n",
            " 0   show_id       8807 non-null   object\n",
            " 1   type          8807 non-null   object\n",
            " 2   title         8807 non-null   object\n",
            " 3   director      6173 non-null   object\n",
            " 4   cast          7982 non-null   object\n",
            " 5   country       7976 non-null   object\n",
            " 6   date_added    8797 non-null   object\n",
            " 7   release_year  8807 non-null   int64 \n",
            " 8   rating        8803 non-null   object\n",
            " 9   duration      8804 non-null   object\n",
            " 10  listed_in     8807 non-null   object\n",
            " 11  description   8807 non-null   object\n",
            "dtypes: int64(1), object(11)\n",
            "memory usage: 825.8+ KB\n"
          ]
        }
      ],
      "source": [
        "# Importamos el Dataset Netflix\n",
        "df_netflix = pd.read_csv(\"/content/drive/MyDrive/DATASETS/netflix_titles.csv\")\n",
        "df_netflix.info()"
      ]
    },
    {
      "cell_type": "code",
      "source": [
        "# Importamos el Dataset de pacientes con sus mediciones de temperatura\n",
        "df_pacientes = pd.read_csv('https://docs.google.com/spreadsheets/d/1-rUn4TUwpGrLE1DH8moeiR5eSyeF-jOOTpfhRgZxVIQ/gviz/tq?tqx=out:csv&sheet=')\n",
        "df_pacientes.info()\n"
      ],
      "metadata": {
        "id": "BGW2keyALM-p",
        "colab": {
          "base_uri": "https://localhost:8080/"
        },
        "outputId": "7e80662e-d307-4dba-8461-45c3c8b10d22"
      },
      "execution_count": 8,
      "outputs": [
        {
          "output_type": "stream",
          "name": "stdout",
          "text": [
            "<class 'pandas.core.frame.DataFrame'>\n",
            "RangeIndex: 3018 entries, 0 to 3017\n",
            "Data columns (total 11 columns):\n",
            " #   Column  Non-Null Count  Dtype  \n",
            "---  ------  --------------  -----  \n",
            " 0   nombre  3018 non-null   object \n",
            " 1   d1      2832 non-null   float64\n",
            " 2   d2      2871 non-null   float64\n",
            " 3   d3      2822 non-null   float64\n",
            " 4   d4      2839 non-null   float64\n",
            " 5   d5      2855 non-null   float64\n",
            " 6   d6      2820 non-null   float64\n",
            " 7   d7      2864 non-null   float64\n",
            " 8   d8      2834 non-null   float64\n",
            " 9   d9      2816 non-null   float64\n",
            " 10  d10     2845 non-null   float64\n",
            "dtypes: float64(10), object(1)\n",
            "memory usage: 259.5+ KB\n"
          ]
        }
      ]
    },
    {
      "cell_type": "markdown",
      "source": [
        "## Identificación de datos duplicados\n",
        "\n",
        "[duplicated()](https://pandas.pydata.org/docs/reference/api/pandas.DataFrame.duplicated.html)"
      ],
      "metadata": {
        "id": "wA26PM5dOH3q"
      }
    },
    {
      "cell_type": "markdown",
      "source": [
        "### Dataframe satis"
      ],
      "metadata": {
        "id": "03DYUagAh88_"
      }
    },
    {
      "cell_type": "code",
      "source": [
        "df_satis.info()"
      ],
      "metadata": {
        "id": "L0c7cEg7ZjhP",
        "colab": {
          "base_uri": "https://localhost:8080/"
        },
        "outputId": "b8804618-d295-43d9-949e-641467119fe7"
      },
      "execution_count": 9,
      "outputs": [
        {
          "output_type": "stream",
          "name": "stdout",
          "text": [
            "<class 'pandas.core.frame.DataFrame'>\n",
            "RangeIndex: 1128 entries, 0 to 1127\n",
            "Data columns (total 5 columns):\n",
            " #   Column        Non-Null Count  Dtype  \n",
            "---  ------        --------------  -----  \n",
            " 0   id            1128 non-null   int64  \n",
            " 1   Empresa       1128 non-null   object \n",
            " 2   Fecha         1128 non-null   object \n",
            " 3   Calificación  904 non-null    float64\n",
            " 4   Comentarios   818 non-null    object \n",
            "dtypes: float64(1), int64(1), object(3)\n",
            "memory usage: 44.2+ KB\n"
          ]
        }
      ]
    },
    {
      "cell_type": "code",
      "source": [
        "# Veamos si hay duplicados\n",
        "df_satis.duplicated().sum()"
      ],
      "metadata": {
        "id": "yc_Nk9vUhhkM",
        "colab": {
          "base_uri": "https://localhost:8080/"
        },
        "outputId": "ed5dc9bb-bbcc-4eed-fa59-2cf182f9ba7f"
      },
      "execution_count": 10,
      "outputs": [
        {
          "output_type": "execute_result",
          "data": {
            "text/plain": [
              "np.int64(128)"
            ]
          },
          "metadata": {},
          "execution_count": 10
        }
      ]
    },
    {
      "cell_type": "code",
      "source": [
        "# Veamos cuantos registros duplicados hay\n",
        "df_satis.duplicated(subset=[\"Empresa\", \"Calificación\"]).sum()"
      ],
      "metadata": {
        "id": "TvNui7WWS12w",
        "colab": {
          "base_uri": "https://localhost:8080/"
        },
        "outputId": "d305a46a-dafe-448a-b9d5-d64c00d3c23e"
      },
      "execution_count": 11,
      "outputs": [
        {
          "output_type": "execute_result",
          "data": {
            "text/plain": [
              "np.int64(134)"
            ]
          },
          "metadata": {},
          "execution_count": 11
        }
      ]
    },
    {
      "cell_type": "code",
      "source": [
        "# Contar valores unicos\n",
        "df_satis.value_counts(subset=[\"Empresa\", \"Calificación\"]).sort_values(ascending=False)"
      ],
      "metadata": {
        "id": "kymrG0MHgvRZ",
        "colab": {
          "base_uri": "https://localhost:8080/",
          "height": 490
        },
        "outputId": "e31f86af-f29a-4a41-b6a4-27ecdcd8163a"
      },
      "execution_count": 12,
      "outputs": [
        {
          "output_type": "execute_result",
          "data": {
            "text/plain": [
              "Empresa                       Calificación\n",
              "Batz-Buckridge                4.0             2\n",
              "VonRueden-Kerluke             5.0             2\n",
              "Powlowski-Champlin            1.0             2\n",
              "Johnson, Hermann and Stark    4.0             2\n",
              "Johnson Inc                   4.0             2\n",
              "                                             ..\n",
              "Swaniawski-Ortiz              1.0             1\n",
              "Terry Group                   2.0             1\n",
              "Terry LLC                     3.0             1\n",
              "Thompson Inc                  3.0             1\n",
              "Stoltenberg, Sawayn and West  3.0             1\n",
              "Name: count, Length: 798, dtype: int64"
            ],
            "text/html": [
              "<div>\n",
              "<style scoped>\n",
              "    .dataframe tbody tr th:only-of-type {\n",
              "        vertical-align: middle;\n",
              "    }\n",
              "\n",
              "    .dataframe tbody tr th {\n",
              "        vertical-align: top;\n",
              "    }\n",
              "\n",
              "    .dataframe thead th {\n",
              "        text-align: right;\n",
              "    }\n",
              "</style>\n",
              "<table border=\"1\" class=\"dataframe\">\n",
              "  <thead>\n",
              "    <tr style=\"text-align: right;\">\n",
              "      <th></th>\n",
              "      <th></th>\n",
              "      <th>count</th>\n",
              "    </tr>\n",
              "    <tr>\n",
              "      <th>Empresa</th>\n",
              "      <th>Calificación</th>\n",
              "      <th></th>\n",
              "    </tr>\n",
              "  </thead>\n",
              "  <tbody>\n",
              "    <tr>\n",
              "      <th>Batz-Buckridge</th>\n",
              "      <th>4.0</th>\n",
              "      <td>2</td>\n",
              "    </tr>\n",
              "    <tr>\n",
              "      <th>VonRueden-Kerluke</th>\n",
              "      <th>5.0</th>\n",
              "      <td>2</td>\n",
              "    </tr>\n",
              "    <tr>\n",
              "      <th>Powlowski-Champlin</th>\n",
              "      <th>1.0</th>\n",
              "      <td>2</td>\n",
              "    </tr>\n",
              "    <tr>\n",
              "      <th>Johnson, Hermann and Stark</th>\n",
              "      <th>4.0</th>\n",
              "      <td>2</td>\n",
              "    </tr>\n",
              "    <tr>\n",
              "      <th>Johnson Inc</th>\n",
              "      <th>4.0</th>\n",
              "      <td>2</td>\n",
              "    </tr>\n",
              "    <tr>\n",
              "      <th>...</th>\n",
              "      <th>...</th>\n",
              "      <td>...</td>\n",
              "    </tr>\n",
              "    <tr>\n",
              "      <th>Swaniawski-Ortiz</th>\n",
              "      <th>1.0</th>\n",
              "      <td>1</td>\n",
              "    </tr>\n",
              "    <tr>\n",
              "      <th>Terry Group</th>\n",
              "      <th>2.0</th>\n",
              "      <td>1</td>\n",
              "    </tr>\n",
              "    <tr>\n",
              "      <th>Terry LLC</th>\n",
              "      <th>3.0</th>\n",
              "      <td>1</td>\n",
              "    </tr>\n",
              "    <tr>\n",
              "      <th>Thompson Inc</th>\n",
              "      <th>3.0</th>\n",
              "      <td>1</td>\n",
              "    </tr>\n",
              "    <tr>\n",
              "      <th>Stoltenberg, Sawayn and West</th>\n",
              "      <th>3.0</th>\n",
              "      <td>1</td>\n",
              "    </tr>\n",
              "  </tbody>\n",
              "</table>\n",
              "<p>798 rows × 1 columns</p>\n",
              "</div><br><label><b>dtype:</b> int64</label>"
            ]
          },
          "metadata": {},
          "execution_count": 12
        }
      ]
    },
    {
      "cell_type": "code",
      "source": [
        "# Visualizar los duplicados con diferentes argumentos\n",
        "df_satis[df_satis.duplicated(keep=False)].sort_values(by='Empresa')"
      ],
      "metadata": {
        "id": "jY9BIRBvdTCz"
      },
      "execution_count": null,
      "outputs": []
    },
    {
      "cell_type": "code",
      "source": [
        "# Aplicar filtros\n",
        "df_satis[df_satis['Empresa'] == \"Keebler Inc\"]"
      ],
      "metadata": {
        "id": "F6kQASVog0V0"
      },
      "execution_count": null,
      "outputs": []
    },
    {
      "cell_type": "code",
      "source": [
        "df_satis[df_satis.duplicated(subset=[\"Empresa\", \"Fecha\"],keep=False)].sort_values(by='id')"
      ],
      "metadata": {
        "collapsed": true,
        "id": "F1Zh35WLasP_"
      },
      "execution_count": null,
      "outputs": []
    },
    {
      "cell_type": "code",
      "source": [
        "df_satis[df_satis.duplicated(subset=df_satis.columns[1:],keep=False)].sort_values(by='Empresa')"
      ],
      "metadata": {
        "id": "dw_lDCa6Rmb6"
      },
      "execution_count": null,
      "outputs": []
    },
    {
      "cell_type": "markdown",
      "source": [
        "### Dataframe Pacientes"
      ],
      "metadata": {
        "id": "7yZ0UKPiZNWw"
      }
    },
    {
      "cell_type": "code",
      "source": [
        "# Veamos cuantos registros duplicados hay\n",
        "df_pacientes.duplicated().sum()"
      ],
      "metadata": {
        "id": "sTlHqI0sZUo8"
      },
      "execution_count": null,
      "outputs": []
    },
    {
      "cell_type": "code",
      "source": [
        "# Si hay, entonces los listamos (keep, first, last, False)\n",
        "df_pacientes[df_pacientes.duplicated(subset=[\"nombre\"], keep=False)].sort_values(by='nombre')"
      ],
      "metadata": {
        "id": "LXak9CVpS1YK"
      },
      "execution_count": null,
      "outputs": []
    },
    {
      "cell_type": "markdown",
      "source": [
        "### Dataframe Netflix"
      ],
      "metadata": {
        "id": "quNPvQHhcXF6"
      }
    },
    {
      "cell_type": "code",
      "source": [
        "df_netflix.duplicated().sum()"
      ],
      "metadata": {
        "id": "LXuZr1KncYxY"
      },
      "execution_count": null,
      "outputs": []
    },
    {
      "cell_type": "code",
      "source": [
        "df_netflix[df_netflix.duplicated()]"
      ],
      "metadata": {
        "id": "vhKHF-2mcc-c"
      },
      "execution_count": null,
      "outputs": []
    },
    {
      "cell_type": "markdown",
      "source": [
        "## Tratamiento de datos duplicados\n",
        "[Pandas drop_duplicates()](https://pandas.pydata.org/docs/reference/api/pandas.DataFrame.drop_duplicates.html)"
      ],
      "metadata": {
        "id": "vDYh-QrWcrlx"
      }
    },
    {
      "cell_type": "markdown",
      "source": [
        "### Dataset Satis"
      ],
      "metadata": {
        "id": "1Szdxzs2lo9C"
      }
    },
    {
      "cell_type": "code",
      "source": [
        "df_satis.info()"
      ],
      "metadata": {
        "id": "FYxJSeZ9fQkt",
        "colab": {
          "base_uri": "https://localhost:8080/",
          "height": 141
        },
        "outputId": "cc11fe5a-00b2-432f-9ab0-f41917020554"
      },
      "execution_count": 1,
      "outputs": [
        {
          "output_type": "error",
          "ename": "NameError",
          "evalue": "name 'df_satis' is not defined",
          "traceback": [
            "\u001b[0;31m---------------------------------------------------------------------------\u001b[0m",
            "\u001b[0;31mNameError\u001b[0m                                 Traceback (most recent call last)",
            "\u001b[0;32m/tmp/ipython-input-939928816.py\u001b[0m in \u001b[0;36m<cell line: 0>\u001b[0;34m()\u001b[0m\n\u001b[0;32m----> 1\u001b[0;31m \u001b[0mdf_satis\u001b[0m\u001b[0;34m.\u001b[0m\u001b[0minfo\u001b[0m\u001b[0;34m(\u001b[0m\u001b[0;34m)\u001b[0m\u001b[0;34m\u001b[0m\u001b[0;34m\u001b[0m\u001b[0m\n\u001b[0m",
            "\u001b[0;31mNameError\u001b[0m: name 'df_satis' is not defined"
          ]
        }
      ]
    },
    {
      "cell_type": "code",
      "source": [
        "df_satis_pp1 = df_satis.drop_duplicates(subset=[\"Empresa\", \"Calificación\"], keep=\"first\")\n",
        "df_satis_pp1.info()"
      ],
      "metadata": {
        "id": "GvXQPiXSdL1K"
      },
      "execution_count": null,
      "outputs": []
    },
    {
      "cell_type": "code",
      "source": [
        "df_netflix.duplicated().sum()"
      ],
      "metadata": {
        "id": "zDFfjl47NOK7"
      },
      "execution_count": null,
      "outputs": []
    },
    {
      "cell_type": "code",
      "source": [
        "df_satis_pp1[df_satis_pp1.duplicated(subset=[\"Empresa\", \"Calificación\"], keep=False)].sort_values(by='Empresa')\n"
      ],
      "metadata": {
        "id": "j_GtWCfWo_Jg"
      },
      "execution_count": null,
      "outputs": []
    },
    {
      "cell_type": "markdown",
      "source": [
        "## Exploración de datos nulos"
      ],
      "metadata": {
        "id": "UgoJnK5MrB1p"
      }
    },
    {
      "cell_type": "code",
      "source": [
        "df_satis.info()"
      ],
      "metadata": {
        "id": "Fd9KBubBrF3l"
      },
      "execution_count": null,
      "outputs": []
    },
    {
      "cell_type": "code",
      "source": [],
      "metadata": {
        "id": "GO9EkysBF9fq"
      },
      "execution_count": null,
      "outputs": []
    },
    {
      "cell_type": "code",
      "source": [
        "# Ver si hay valores nulos, en general o en columnas especificas\n",
        "#df_satis.isnull().sum()\n",
        "#df_satis[[\"Comentarios\", \"Calificación\"]].isnull().sum()\n",
        "df_satis.isnull().any(axis=1).sum()"
      ],
      "metadata": {
        "id": "GAa6Fu8jrLft"
      },
      "execution_count": null,
      "outputs": []
    },
    {
      "cell_type": "code",
      "source": [
        "# Visualizar los registros con celdas null / NaN\n",
        "df_satis[df_satis.isnull().any(axis=1)][[\"Comentarios\", \"Calificación\"]]"
      ],
      "metadata": {
        "id": "lfLrT3UWrctd"
      },
      "execution_count": null,
      "outputs": []
    },
    {
      "cell_type": "markdown",
      "source": [
        "## Tratamiento de datos nulos"
      ],
      "metadata": {
        "id": "Zi0n5cJ9twro"
      }
    },
    {
      "cell_type": "markdown",
      "source": [
        "### drop"
      ],
      "metadata": {
        "id": "HboQX6EjmoXk"
      }
    },
    {
      "cell_type": "markdown",
      "source": [
        "`dropna` se usa para eliminar registros que contengan datos nulos\n",
        "<BR>\n",
        "[Pandas dropna](https://pandas.pydata.org/docs/reference/api/pandas.DataFrame.dropna.html)\n",
        "\n",
        "* how: para especificar si (any / all) celdas deben tener NaN\n",
        "* thresh: indicar la cantidad de NaN para ejecutar el drop (no se puede combinar con any)\n",
        "* subset: indicar las columnas a evaluar\n",
        "* inplace: si guarda los cambios en el dataframe o retorna una copia"
      ],
      "metadata": {
        "id": "rqqvPnXqDXSz"
      }
    },
    {
      "cell_type": "markdown",
      "source": [
        "Analizar y comparar que sucede cuando aplicamos dropna a todas las columnas o a algunas especificas."
      ],
      "metadata": {
        "id": "cOVL42yRhcd5"
      }
    },
    {
      "cell_type": "code",
      "source": [
        "# Eliminar un registro si alguna las columnas contienen NaA\n",
        "df_satis_pp2 = df_satis.dropna()\n",
        "df_satis_pp2.info()"
      ],
      "metadata": {
        "id": "gcSHOHrzt11p"
      },
      "execution_count": null,
      "outputs": []
    },
    {
      "cell_type": "code",
      "source": [
        "# Eliminar un registro si alguna o tdas las columnas contienen NaA\n",
        "df_satis_pp2 = df_satis.dropna(how=\"all\")\n",
        "df_satis_pp2.info()"
      ],
      "metadata": {
        "id": "Obuej6GHg1xY"
      },
      "execution_count": null,
      "outputs": []
    },
    {
      "cell_type": "code",
      "source": [
        "# Eliminar un registro solo evaluando NaN en las columnas indicadas\n",
        "df_satis_pp2 = df_satis.dropna(subset=[\"Comentarios\", \"Calificación\"])\n",
        "df_satis_pp2.info()"
      ],
      "metadata": {
        "id": "dZhzbrx62Hse"
      },
      "execution_count": null,
      "outputs": []
    },
    {
      "cell_type": "code",
      "source": [
        "# Eliminar una columna si contiene NaN\n",
        "df_satis_pp2 = df_satis.dropna(axis=1) # no accepta subset\n",
        "df_satis_pp2.info()"
      ],
      "metadata": {
        "id": "Nd0sdRmjeHa8"
      },
      "execution_count": null,
      "outputs": []
    },
    {
      "cell_type": "markdown",
      "source": [
        "### fill"
      ],
      "metadata": {
        "id": "Wlrcc3jeDVEh"
      }
    },
    {
      "cell_type": "markdown",
      "source": [
        "`fillna` se utiliza para completar el dato faltante\n",
        "<BR>\n",
        "[Pandas fillna](https://pandas.pydata.org/docs/reference/api/pandas.DataFrame.fillna.html)\n",
        "<BR>\n",
        "* df.fillna(0)  se completa con un valor fijo\n",
        "* df.fillna(method=\"ffill\")  completa con el valor del registro anterior\n",
        "* df.fillna(method=\"bfill\") completa con el valor del registro previo\n",
        "* df[\"col\"].fillna(df[\"col\"].mean()) completa con la media de la columna\n",
        "* df.fillna({\"col1\": 0, \"col2\": \"desconocido\"})"
      ],
      "metadata": {
        "id": "814RqpKuDdYP"
      }
    },
    {
      "cell_type": "markdown",
      "source": [
        "1. completamos con un valor fijo"
      ],
      "metadata": {
        "id": "lkVpokeetAzd"
      }
    },
    {
      "cell_type": "code",
      "source": [
        "# usamos el atributo value con un valor fijo en 0\n",
        "df_satis_pp3 = df_satis.fillna(value = 0)\n",
        "df_satis_pp3.info()"
      ],
      "metadata": {
        "id": "G-Uk5sk3nf2Z"
      },
      "execution_count": null,
      "outputs": []
    },
    {
      "cell_type": "code",
      "source": [
        "# También podríamos usar un diccionario\n",
        "df_satis_pp3 = df_satis.fillna({\"Calificación\": 0, \"Comentarios\": \"Sin dato\"})"
      ],
      "metadata": {
        "id": "J7BqXahzsIXk"
      },
      "execution_count": null,
      "outputs": []
    },
    {
      "cell_type": "code",
      "source": [
        "# listamos los primeros registros\n",
        "df_satis_pp3.head(10)"
      ],
      "metadata": {
        "id": "5l6K3Ch8p3iz"
      },
      "execution_count": null,
      "outputs": []
    },
    {
      "cell_type": "code",
      "source": [
        "# Eventualmente ajustamos el tipo de dato\n",
        "df_satis_pp3 = df_satis_pp3.astype({\"Comentarios\": \"string\"})\n",
        "df_satis_pp3.info()"
      ],
      "metadata": {
        "collapsed": true,
        "id": "kgZc2LqiokLt"
      },
      "execution_count": null,
      "outputs": []
    },
    {
      "cell_type": "code",
      "source": [
        "# Podemos aplicar filtros\n",
        "df_satis_pp3[df_satis_pp3[\"Comentarios\"]==\"0\"]"
      ],
      "metadata": {
        "id": "fg4NNCoCnlMI"
      },
      "execution_count": null,
      "outputs": []
    },
    {
      "cell_type": "markdown",
      "source": [
        "2. Completamos con el valor próximo"
      ],
      "metadata": {
        "id": "NYIeIyXftF9d"
      }
    },
    {
      "cell_type": "code",
      "source": [
        "df_satis_pp3 = df_satis.fillna(method = \"ffill\")\n",
        "df_satis_pp3.info()"
      ],
      "metadata": {
        "id": "gH12WAjWpvRk"
      },
      "execution_count": null,
      "outputs": []
    },
    {
      "cell_type": "markdown",
      "source": [
        "3. Completamos con el valor previo"
      ],
      "metadata": {
        "id": "5BZgmxVmtMH7"
      }
    },
    {
      "cell_type": "code",
      "source": [
        "df_satis_pp3 = df_satis.fillna(method = \"bfill\")\n",
        "df_satis_pp3.info()"
      ],
      "metadata": {
        "id": "RoNmFPentOep"
      },
      "execution_count": null,
      "outputs": []
    },
    {
      "cell_type": "markdown",
      "source": [
        "4. Completamos con la media, meadiana, moda"
      ],
      "metadata": {
        "id": "hpYrnpu5tVuX"
      }
    },
    {
      "cell_type": "code",
      "source": [
        "df_satis_pp3 = df_satis.fillna(df_satis.mean(numeric_only=True))\n",
        "df_satis_pp3.info()"
      ],
      "metadata": {
        "id": "_m_azcEhtZ4D"
      },
      "execution_count": null,
      "outputs": []
    },
    {
      "cell_type": "code",
      "source": [
        "# calcular la media de la columna Calificación\n",
        "media_calif = df_satis[\"Calificación\"].mode()[0] # mean() / median() / mode()[0]\n",
        "\n",
        "# aplicar fillna con diccionario\n",
        "df_satis_pp3 = df_satis.fillna({\n",
        "    \"Calificación\": media_calif,\n",
        "    \"Comentarios\": \"Sin dato\"\n",
        "})"
      ],
      "metadata": {
        "id": "PWILEjXpInLC"
      },
      "execution_count": null,
      "outputs": []
    },
    {
      "cell_type": "code",
      "source": [
        "df_satis_pp3.head(5)"
      ],
      "metadata": {
        "id": "Gsc7wa8Luhuz"
      },
      "execution_count": null,
      "outputs": []
    },
    {
      "cell_type": "markdown",
      "source": [
        "Analicemos el dataset pacientes"
      ],
      "metadata": {
        "id": "irB1hu0SL0zD"
      }
    },
    {
      "cell_type": "code",
      "source": [
        "df_pacientes.info()"
      ],
      "metadata": {
        "id": "sfPx4yl3MSz2"
      },
      "execution_count": null,
      "outputs": []
    },
    {
      "cell_type": "code",
      "source": [
        "# Completamos con la media de la columna\n",
        "df_pacientes_pp1 = df_pacientes.fillna(df_pacientes.mean(numeric_only=True))\n",
        "df_pacientes_pp1.info()"
      ],
      "metadata": {
        "id": "-dpCdJYhMVFD"
      },
      "execution_count": null,
      "outputs": []
    },
    {
      "cell_type": "code",
      "source": [
        "# Completamos con la media de la fila usando lambda\n",
        "\n",
        "# seleccionar solo las columnas d1...d10\n",
        "cols = df_pacientes.columns[1:]   # todas excepto 'nombre'\n",
        "\n",
        "# aplicar moda por fila\n",
        "df_pacientes_pp1[cols] = df_pacientes[cols].apply(\n",
        "    lambda row: row.fillna(row.mean()), axis=1\n",
        ")"
      ],
      "metadata": {
        "id": "EZbSji4PMjRo"
      },
      "execution_count": null,
      "outputs": []
    },
    {
      "cell_type": "code",
      "source": [
        "# Completamos con la media de la fila usando T (traspuesta)\n",
        "df_pacientes_pp1[cols] = df_pacientes[cols].T.fillna(df_pacientes[cols].mean(axis=1)).T"
      ],
      "metadata": {
        "id": "FRGn91HNPUtT"
      },
      "execution_count": null,
      "outputs": []
    },
    {
      "cell_type": "code",
      "source": [
        "#df_pacientes.head()\n",
        "df_pacientes_pp1.head()"
      ],
      "metadata": {
        "id": "5htetQ0ROA1Y"
      },
      "execution_count": null,
      "outputs": []
    },
    {
      "cell_type": "markdown",
      "source": [
        "Veamos el concepto de Traspuesta"
      ],
      "metadata": {
        "id": "INXLSCxaPreV"
      }
    },
    {
      "cell_type": "code",
      "source": [
        "df = pd.DataFrame({\n",
        "    \"A\": [1, 2, 3],\n",
        "    \"B\": [4, 5, 6]\n",
        "})\n",
        "print(\"Original:\")\n",
        "print(df)\n",
        "\n",
        "print(\"\\nTranspuesta:\")\n",
        "print(df.T)"
      ],
      "metadata": {
        "id": "ijYKicyTPvoW"
      },
      "execution_count": null,
      "outputs": []
    },
    {
      "cell_type": "markdown",
      "source": [
        "## Normalización de datos"
      ],
      "metadata": {
        "id": "DaGJeJEJNSy5"
      }
    },
    {
      "cell_type": "markdown",
      "source": [
        "## Ajustar tipo de dato"
      ],
      "metadata": {
        "id": "zqzMRpOvL24q"
      }
    },
    {
      "cell_type": "markdown",
      "source": [
        "### astype()"
      ],
      "metadata": {
        "id": "puSQmvDdP-4l"
      }
    },
    {
      "cell_type": "markdown",
      "source": [
        "* df[\"col\"] = df[\"col\"].astype(int)\n",
        "* df[\"col\"] = df[\"col\"].astype(float)\n",
        "* df[\"col\"] = df[\"col\"].astype(str)"
      ],
      "metadata": {
        "id": "qgJXk5YWQDPg"
      }
    },
    {
      "cell_type": "code",
      "source": [
        "df_satis_pp4 = df_satis.copy()\n",
        "df_satis_pp4[\"Comentarios\"] = df_satis[\"Comentarios\"].astype(\"string\")"
      ],
      "metadata": {
        "id": "YgYCrtZHQNrD"
      },
      "execution_count": null,
      "outputs": []
    },
    {
      "cell_type": "code",
      "source": [
        "df_satis_pp4.info()"
      ],
      "metadata": {
        "id": "jHcS9qJcQCkw"
      },
      "execution_count": null,
      "outputs": []
    },
    {
      "cell_type": "markdown",
      "source": [
        "### to_numeric()"
      ],
      "metadata": {
        "id": "KLdTIJTmQ1BJ"
      }
    },
    {
      "cell_type": "code",
      "source": [
        "pd.to_numeric(df[\"col\"], errors=\"coerce\")"
      ],
      "metadata": {
        "id": "H3ILDagaQ8rt"
      },
      "execution_count": null,
      "outputs": []
    },
    {
      "cell_type": "markdown",
      "source": [
        "### to_datetime()"
      ],
      "metadata": {
        "id": "y536nQ_1GU12"
      }
    },
    {
      "cell_type": "code",
      "source": [
        "type(df_satis[\"Fecha\"][0])\n",
        "df_satis[\"Fecha\"][0]"
      ],
      "metadata": {
        "id": "zScj_SodHWXm"
      },
      "execution_count": null,
      "outputs": []
    },
    {
      "cell_type": "code",
      "source": [
        "# pd.to_datetime(df_satis.Fecha)\n",
        "pd.to_datetime(df_satis[\"Fecha\"], format=\"%d/%m/%Y\")\n"
      ],
      "metadata": {
        "id": "qH0J8NRLGZOK"
      },
      "execution_count": null,
      "outputs": []
    },
    {
      "cell_type": "markdown",
      "source": [
        "## Filtrado de datos"
      ],
      "metadata": {
        "id": "vH7IoUz7Nclh"
      }
    },
    {
      "cell_type": "code",
      "source": [
        "df_satis.info()"
      ],
      "metadata": {
        "id": "G-E9FpFTR07-"
      },
      "execution_count": null,
      "outputs": []
    },
    {
      "cell_type": "code",
      "source": [
        "# Con una sola columna\n",
        "df_satis[\"Empresa\"]"
      ],
      "metadata": {
        "id": "4_86iYp-R0DR"
      },
      "execution_count": null,
      "outputs": []
    },
    {
      "cell_type": "code",
      "source": [
        "# Con varias columnas\n",
        "df_satis[[\"Empresa\", \"Fecha\"]]"
      ],
      "metadata": {
        "id": "ZyrhE8uHR59U"
      },
      "execution_count": null,
      "outputs": []
    },
    {
      "cell_type": "code",
      "source": [
        "df_satis[df_satis[\"Empresa\"] == \"Kuhn-Fay\"]"
      ],
      "metadata": {
        "id": "wL0YWCEhSycC"
      },
      "execution_count": null,
      "outputs": []
    },
    {
      "cell_type": "code",
      "source": [
        "# Con condición\n",
        "df_satis[[(\"Empresa\") ==\"Alpha\" & (\"Comentarios\" > \"3\")]]"
      ],
      "metadata": {
        "id": "TVVA2KMgSEbN"
      },
      "execution_count": null,
      "outputs": []
    }
  ]
}