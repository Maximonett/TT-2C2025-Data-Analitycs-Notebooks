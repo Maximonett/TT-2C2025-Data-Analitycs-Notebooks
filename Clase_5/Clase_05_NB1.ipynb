{
  "nbformat": 4,
  "nbformat_minor": 0,
  "metadata": {
    "colab": {
      "provenance": [],
      "toc_visible": true
    },
    "kernelspec": {
      "name": "python3",
      "display_name": "Python 3"
    },
    "language_info": {
      "name": "python"
    }
  },
  "cells": [
    {
      "cell_type": "markdown",
      "source": [
        "# Tecnicas para limpieza de datos"
      ],
      "metadata": {
        "id": "coxpELWGHydE"
      }
    },
    {
      "cell_type": "markdown",
      "source": [
        "1. Eliminar duplicados\n",
        "`drop_duplicates()`\n",
        "2. Eliminar caracteres no deseados\n",
        "`str.replace()`\n",
        "3. Corrección del tipo de dato\n",
        "df[ “campo” ].astype(float) [texto del enlace](https://)\n",
        "4. Manejo de datos faltantes\n",
        "`dropna()`\n",
        "`fillna()`\n",
        "5. Normalización de datos\n",
        "`.str.strip().lower()`\n",
        "6. Filtrado de datos\n",
        "`df [ df[“campo”] + condición ]`\n"
      ],
      "metadata": {
        "id": "C2-trU9kH3CD"
      }
    },
    {
      "cell_type": "markdown",
      "source": [
        "## Importamos algunos datasets para explorar"
      ],
      "metadata": {
        "id": "YMopub5oINB3"
      }
    },
    {
      "cell_type": "code",
      "source": [
        "# Importar la librería Pandas\n",
        "import pandas as pd"
      ],
      "metadata": {
        "id": "RfKtSouMJgGm"
      },
      "execution_count": 2,
      "outputs": []
    },
    {
      "cell_type": "code",
      "source": [
        "# Montar la unidad\n",
        "from google.colab import drive\n",
        "drive.mount('/content/drive')"
      ],
      "metadata": {
        "id": "7crL5focIWRd",
        "colab": {
          "base_uri": "https://localhost:8080/"
        },
        "outputId": "e32b9395-c2e9-42e4-a8b1-3bb2f08bb793"
      },
      "execution_count": 3,
      "outputs": [
        {
          "output_type": "stream",
          "name": "stdout",
          "text": [
            "Mounted at /content/drive\n"
          ]
        }
      ]
    },
    {
      "cell_type": "code",
      "source": [
        "# Verificar que los archivos csv se encuentren en la carpeta datasets\n",
        "import os\n",
        "os.listdir(\"/content/drive/MyDrive/DATASETS\")"
      ],
      "metadata": {
        "id": "dexkg6aTJysV",
        "colab": {
          "base_uri": "https://localhost:8080/"
        },
        "outputId": "f6b3b600-7a9d-4667-bf4f-5975c5ce28f6"
      },
      "execution_count": 4,
      "outputs": [
        {
          "output_type": "execute_result",
          "data": {
            "text/plain": [
              "['reviews.csv',\n",
              " 'hotels.csv',\n",
              " 'users.csv',\n",
              " 'netflix_titles.csv',\n",
              " 'satis_clientes.csv',\n",
              " 'Actividad 2.gsheet']"
            ]
          },
          "metadata": {},
          "execution_count": 4
        }
      ]
    },
    {
      "cell_type": "code",
      "source": [
        "# Importamos el Dataset satis (customer satisfaction)\n",
        "df_satis = pd.read_csv(\"/content/drive/MyDrive/DATASETS/satis_clientes.csv\")\n",
        "df_satis.info()"
      ],
      "metadata": {
        "id": "yZDvce32KpJo",
        "colab": {
          "base_uri": "https://localhost:8080/"
        },
        "outputId": "fb693307-3178-4bf9-b773-49fa704adbd3"
      },
      "execution_count": 6,
      "outputs": [
        {
          "output_type": "stream",
          "name": "stdout",
          "text": [
            "<class 'pandas.core.frame.DataFrame'>\n",
            "RangeIndex: 1128 entries, 0 to 1127\n",
            "Data columns (total 5 columns):\n",
            " #   Column        Non-Null Count  Dtype  \n",
            "---  ------        --------------  -----  \n",
            " 0   id            1128 non-null   int64  \n",
            " 1   Empresa       1128 non-null   object \n",
            " 2   Fecha         1128 non-null   object \n",
            " 3   Calificación  904 non-null    float64\n",
            " 4   Comentarios   818 non-null    object \n",
            "dtypes: float64(1), int64(1), object(3)\n",
            "memory usage: 44.2+ KB\n"
          ]
        }
      ]
    },
    {
      "cell_type": "code",
      "execution_count": 7,
      "metadata": {
        "id": "Ly3Tn2CyGl8S",
        "colab": {
          "base_uri": "https://localhost:8080/"
        },
        "outputId": "29e0ca85-cbf8-4f1f-e4fb-6db5adc66605"
      },
      "outputs": [
        {
          "output_type": "stream",
          "name": "stdout",
          "text": [
            "<class 'pandas.core.frame.DataFrame'>\n",
            "RangeIndex: 8807 entries, 0 to 8806\n",
            "Data columns (total 12 columns):\n",
            " #   Column        Non-Null Count  Dtype \n",
            "---  ------        --------------  ----- \n",
            " 0   show_id       8807 non-null   object\n",
            " 1   type          8807 non-null   object\n",
            " 2   title         8807 non-null   object\n",
            " 3   director      6173 non-null   object\n",
            " 4   cast          7982 non-null   object\n",
            " 5   country       7976 non-null   object\n",
            " 6   date_added    8797 non-null   object\n",
            " 7   release_year  8807 non-null   int64 \n",
            " 8   rating        8803 non-null   object\n",
            " 9   duration      8804 non-null   object\n",
            " 10  listed_in     8807 non-null   object\n",
            " 11  description   8807 non-null   object\n",
            "dtypes: int64(1), object(11)\n",
            "memory usage: 825.8+ KB\n"
          ]
        }
      ],
      "source": [
        "# Importamos el Dataset Netflix\n",
        "df_netflix = pd.read_csv(\"/content/drive/MyDrive/DATASETS/netflix_titles.csv\")\n",
        "df_netflix.info()"
      ]
    },
    {
      "cell_type": "code",
      "source": [
        "# Importamos el Dataset de pacientes con sus mediciones de temperatura\n",
        "df_pacientes = pd.read_csv('https://docs.google.com/spreadsheets/d/1-rUn4TUwpGrLE1DH8moeiR5eSyeF-jOOTpfhRgZxVIQ/gviz/tq?tqx=out:csv&sheet=')\n",
        "df_pacientes.info()\n"
      ],
      "metadata": {
        "id": "BGW2keyALM-p",
        "colab": {
          "base_uri": "https://localhost:8080/"
        },
        "outputId": "7e80662e-d307-4dba-8461-45c3c8b10d22"
      },
      "execution_count": 8,
      "outputs": [
        {
          "output_type": "stream",
          "name": "stdout",
          "text": [
            "<class 'pandas.core.frame.DataFrame'>\n",
            "RangeIndex: 3018 entries, 0 to 3017\n",
            "Data columns (total 11 columns):\n",
            " #   Column  Non-Null Count  Dtype  \n",
            "---  ------  --------------  -----  \n",
            " 0   nombre  3018 non-null   object \n",
            " 1   d1      2832 non-null   float64\n",
            " 2   d2      2871 non-null   float64\n",
            " 3   d3      2822 non-null   float64\n",
            " 4   d4      2839 non-null   float64\n",
            " 5   d5      2855 non-null   float64\n",
            " 6   d6      2820 non-null   float64\n",
            " 7   d7      2864 non-null   float64\n",
            " 8   d8      2834 non-null   float64\n",
            " 9   d9      2816 non-null   float64\n",
            " 10  d10     2845 non-null   float64\n",
            "dtypes: float64(10), object(1)\n",
            "memory usage: 259.5+ KB\n"
          ]
        }
      ]
    },
    {
      "cell_type": "markdown",
      "source": [
        "## Identificación de datos duplicados\n",
        "\n",
        "[duplicated()](https://pandas.pydata.org/docs/reference/api/pandas.DataFrame.duplicated.html)"
      ],
      "metadata": {
        "id": "wA26PM5dOH3q"
      }
    },
    {
      "cell_type": "markdown",
      "source": [
        "### Dataframe satis"
      ],
      "metadata": {
        "id": "03DYUagAh88_"
      }
    },
    {
      "cell_type": "code",
      "source": [
        "df_satis.info()"
      ],
      "metadata": {
        "id": "L0c7cEg7ZjhP",
        "colab": {
          "base_uri": "https://localhost:8080/"
        },
        "outputId": "b8804618-d295-43d9-949e-641467119fe7"
      },
      "execution_count": 9,
      "outputs": [
        {
          "output_type": "stream",
          "name": "stdout",
          "text": [
            "<class 'pandas.core.frame.DataFrame'>\n",
            "RangeIndex: 1128 entries, 0 to 1127\n",
            "Data columns (total 5 columns):\n",
            " #   Column        Non-Null Count  Dtype  \n",
            "---  ------        --------------  -----  \n",
            " 0   id            1128 non-null   int64  \n",
            " 1   Empresa       1128 non-null   object \n",
            " 2   Fecha         1128 non-null   object \n",
            " 3   Calificación  904 non-null    float64\n",
            " 4   Comentarios   818 non-null    object \n",
            "dtypes: float64(1), int64(1), object(3)\n",
            "memory usage: 44.2+ KB\n"
          ]
        }
      ]
    },
    {
      "cell_type": "code",
      "source": [
        "# Veamos si hay duplicados\n",
        "df_satis.duplicated().sum()"
      ],
      "metadata": {
        "id": "yc_Nk9vUhhkM",
        "colab": {
          "base_uri": "https://localhost:8080/"
        },
        "outputId": "ed5dc9bb-bbcc-4eed-fa59-2cf182f9ba7f"
      },
      "execution_count": 10,
      "outputs": [
        {
          "output_type": "execute_result",
          "data": {
            "text/plain": [
              "np.int64(128)"
            ]
          },
          "metadata": {},
          "execution_count": 10
        }
      ]
    },
    {
      "cell_type": "code",
      "source": [
        "# Veamos cuantos registros duplicados hay\n",
        "df_satis.duplicated(subset=[\"Empresa\", \"Calificación\"]).sum()"
      ],
      "metadata": {
        "id": "TvNui7WWS12w",
        "colab": {
          "base_uri": "https://localhost:8080/"
        },
        "outputId": "d305a46a-dafe-448a-b9d5-d64c00d3c23e"
      },
      "execution_count": 11,
      "outputs": [
        {
          "output_type": "execute_result",
          "data": {
            "text/plain": [
              "np.int64(134)"
            ]
          },
          "metadata": {},
          "execution_count": 11
        }
      ]
    },
    {
      "cell_type": "code",
      "source": [
        "df_satis.duplicated(subset=[\"Empresa\", \"Calificación\"])"
      ],
      "metadata": {
        "id": "D-JAXEsxoUCN",
        "outputId": "716bf68b-1a3c-4133-ea29-786583c64b2f",
        "colab": {
          "base_uri": "https://localhost:8080/",
          "height": 458
        }
      },
      "execution_count": 16,
      "outputs": [
        {
          "output_type": "execute_result",
          "data": {
            "text/plain": [
              "0       False\n",
              "1       False\n",
              "2       False\n",
              "3       False\n",
              "4       False\n",
              "        ...  \n",
              "1123    False\n",
              "1124    False\n",
              "1125    False\n",
              "1126    False\n",
              "1127    False\n",
              "Length: 1128, dtype: bool"
            ],
            "text/html": [
              "<div>\n",
              "<style scoped>\n",
              "    .dataframe tbody tr th:only-of-type {\n",
              "        vertical-align: middle;\n",
              "    }\n",
              "\n",
              "    .dataframe tbody tr th {\n",
              "        vertical-align: top;\n",
              "    }\n",
              "\n",
              "    .dataframe thead th {\n",
              "        text-align: right;\n",
              "    }\n",
              "</style>\n",
              "<table border=\"1\" class=\"dataframe\">\n",
              "  <thead>\n",
              "    <tr style=\"text-align: right;\">\n",
              "      <th></th>\n",
              "      <th>0</th>\n",
              "    </tr>\n",
              "  </thead>\n",
              "  <tbody>\n",
              "    <tr>\n",
              "      <th>0</th>\n",
              "      <td>False</td>\n",
              "    </tr>\n",
              "    <tr>\n",
              "      <th>1</th>\n",
              "      <td>False</td>\n",
              "    </tr>\n",
              "    <tr>\n",
              "      <th>2</th>\n",
              "      <td>False</td>\n",
              "    </tr>\n",
              "    <tr>\n",
              "      <th>3</th>\n",
              "      <td>False</td>\n",
              "    </tr>\n",
              "    <tr>\n",
              "      <th>4</th>\n",
              "      <td>False</td>\n",
              "    </tr>\n",
              "    <tr>\n",
              "      <th>...</th>\n",
              "      <td>...</td>\n",
              "    </tr>\n",
              "    <tr>\n",
              "      <th>1123</th>\n",
              "      <td>False</td>\n",
              "    </tr>\n",
              "    <tr>\n",
              "      <th>1124</th>\n",
              "      <td>False</td>\n",
              "    </tr>\n",
              "    <tr>\n",
              "      <th>1125</th>\n",
              "      <td>False</td>\n",
              "    </tr>\n",
              "    <tr>\n",
              "      <th>1126</th>\n",
              "      <td>False</td>\n",
              "    </tr>\n",
              "    <tr>\n",
              "      <th>1127</th>\n",
              "      <td>False</td>\n",
              "    </tr>\n",
              "  </tbody>\n",
              "</table>\n",
              "<p>1128 rows × 1 columns</p>\n",
              "</div><br><label><b>dtype:</b> bool</label>"
            ]
          },
          "metadata": {},
          "execution_count": 16
        }
      ]
    },
    {
      "cell_type": "code",
      "source": [
        "# Contar valores unicos\n",
        "df_satis.value_counts(subset=[\"Empresa\", \"Calificación\"]).sort_values(ascending=False)"
      ],
      "metadata": {
        "id": "kymrG0MHgvRZ",
        "colab": {
          "base_uri": "https://localhost:8080/",
          "height": 490
        },
        "outputId": "bb924d68-506a-41fa-b14d-728ff9812bf5"
      },
      "execution_count": 17,
      "outputs": [
        {
          "output_type": "execute_result",
          "data": {
            "text/plain": [
              "Empresa                       Calificación\n",
              "Batz-Buckridge                4.0             2\n",
              "VonRueden-Kerluke             5.0             2\n",
              "Powlowski-Champlin            1.0             2\n",
              "Johnson, Hermann and Stark    4.0             2\n",
              "Johnson Inc                   4.0             2\n",
              "                                             ..\n",
              "Swaniawski-Ortiz              1.0             1\n",
              "Terry Group                   2.0             1\n",
              "Terry LLC                     3.0             1\n",
              "Thompson Inc                  3.0             1\n",
              "Stoltenberg, Sawayn and West  3.0             1\n",
              "Name: count, Length: 798, dtype: int64"
            ],
            "text/html": [
              "<div>\n",
              "<style scoped>\n",
              "    .dataframe tbody tr th:only-of-type {\n",
              "        vertical-align: middle;\n",
              "    }\n",
              "\n",
              "    .dataframe tbody tr th {\n",
              "        vertical-align: top;\n",
              "    }\n",
              "\n",
              "    .dataframe thead th {\n",
              "        text-align: right;\n",
              "    }\n",
              "</style>\n",
              "<table border=\"1\" class=\"dataframe\">\n",
              "  <thead>\n",
              "    <tr style=\"text-align: right;\">\n",
              "      <th></th>\n",
              "      <th></th>\n",
              "      <th>count</th>\n",
              "    </tr>\n",
              "    <tr>\n",
              "      <th>Empresa</th>\n",
              "      <th>Calificación</th>\n",
              "      <th></th>\n",
              "    </tr>\n",
              "  </thead>\n",
              "  <tbody>\n",
              "    <tr>\n",
              "      <th>Batz-Buckridge</th>\n",
              "      <th>4.0</th>\n",
              "      <td>2</td>\n",
              "    </tr>\n",
              "    <tr>\n",
              "      <th>VonRueden-Kerluke</th>\n",
              "      <th>5.0</th>\n",
              "      <td>2</td>\n",
              "    </tr>\n",
              "    <tr>\n",
              "      <th>Powlowski-Champlin</th>\n",
              "      <th>1.0</th>\n",
              "      <td>2</td>\n",
              "    </tr>\n",
              "    <tr>\n",
              "      <th>Johnson, Hermann and Stark</th>\n",
              "      <th>4.0</th>\n",
              "      <td>2</td>\n",
              "    </tr>\n",
              "    <tr>\n",
              "      <th>Johnson Inc</th>\n",
              "      <th>4.0</th>\n",
              "      <td>2</td>\n",
              "    </tr>\n",
              "    <tr>\n",
              "      <th>...</th>\n",
              "      <th>...</th>\n",
              "      <td>...</td>\n",
              "    </tr>\n",
              "    <tr>\n",
              "      <th>Swaniawski-Ortiz</th>\n",
              "      <th>1.0</th>\n",
              "      <td>1</td>\n",
              "    </tr>\n",
              "    <tr>\n",
              "      <th>Terry Group</th>\n",
              "      <th>2.0</th>\n",
              "      <td>1</td>\n",
              "    </tr>\n",
              "    <tr>\n",
              "      <th>Terry LLC</th>\n",
              "      <th>3.0</th>\n",
              "      <td>1</td>\n",
              "    </tr>\n",
              "    <tr>\n",
              "      <th>Thompson Inc</th>\n",
              "      <th>3.0</th>\n",
              "      <td>1</td>\n",
              "    </tr>\n",
              "    <tr>\n",
              "      <th>Stoltenberg, Sawayn and West</th>\n",
              "      <th>3.0</th>\n",
              "      <td>1</td>\n",
              "    </tr>\n",
              "  </tbody>\n",
              "</table>\n",
              "<p>798 rows × 1 columns</p>\n",
              "</div><br><label><b>dtype:</b> int64</label>"
            ]
          },
          "metadata": {},
          "execution_count": 17
        }
      ]
    },
    {
      "cell_type": "code",
      "source": [
        "# Visualizar los duplicados con diferentes argumentos\n",
        "df_satis[df_satis.duplicated(keep=False)].sort_values(by='Empresa')"
      ],
      "metadata": {
        "id": "jY9BIRBvdTCz",
        "colab": {
          "base_uri": "https://localhost:8080/",
          "height": 424
        },
        "outputId": "82f88089-ad18-4bf6-e0ad-952f30645884"
      },
      "execution_count": 18,
      "outputs": [
        {
          "output_type": "execute_result",
          "data": {
            "text/plain": [
              "       id                         Empresa       Fecha  Calificación  \\\n",
              "1122  995                  Altenwerth LLC  13/09/2024           NaN   \n",
              "1121  995                  Altenwerth LLC  13/09/2024           NaN   \n",
              "811   726  Altenwerth, Blanda and Waelchi  28/09/2024           1.0   \n",
              "812   726  Altenwerth, Blanda and Waelchi  28/09/2024           1.0   \n",
              "187   172  Altenwerth, Reichert and Mills  07/08/2024           3.0   \n",
              "...   ...                             ...         ...           ...   \n",
              "469   423                    Zemlak Group  13/12/2024           5.0   \n",
              "973   865                      Zemlak Inc  29/03/2024           3.0   \n",
              "974   865                      Zemlak Inc  29/03/2024           3.0   \n",
              "512   459                      Zulauf LLC  29/04/2024           5.0   \n",
              "511   459                      Zulauf LLC  29/04/2024           5.0   \n",
              "\n",
              "                                            Comentarios  \n",
              "1122                                                NaN  \n",
              "1121                                                NaN  \n",
              "811   Proin leo odio, porttitor id, consequat in, co...  \n",
              "812   Proin leo odio, porttitor id, consequat in, co...  \n",
              "187   Proin eu mi. Nulla ac enim. In tempor, turpis ...  \n",
              "...                                                 ...  \n",
              "469   Duis consequat dui nec nisi volutpat eleifend....  \n",
              "973   Fusce consequat. Nulla nisl. Nunc nisl.\\n\\nDui...  \n",
              "974   Fusce consequat. Nulla nisl. Nunc nisl.\\n\\nDui...  \n",
              "512                                                 NaN  \n",
              "511                                                 NaN  \n",
              "\n",
              "[256 rows x 5 columns]"
            ],
            "text/html": [
              "\n",
              "  <div id=\"df-388d6f5a-9790-487d-92e1-55c09493a10c\" class=\"colab-df-container\">\n",
              "    <div>\n",
              "<style scoped>\n",
              "    .dataframe tbody tr th:only-of-type {\n",
              "        vertical-align: middle;\n",
              "    }\n",
              "\n",
              "    .dataframe tbody tr th {\n",
              "        vertical-align: top;\n",
              "    }\n",
              "\n",
              "    .dataframe thead th {\n",
              "        text-align: right;\n",
              "    }\n",
              "</style>\n",
              "<table border=\"1\" class=\"dataframe\">\n",
              "  <thead>\n",
              "    <tr style=\"text-align: right;\">\n",
              "      <th></th>\n",
              "      <th>id</th>\n",
              "      <th>Empresa</th>\n",
              "      <th>Fecha</th>\n",
              "      <th>Calificación</th>\n",
              "      <th>Comentarios</th>\n",
              "    </tr>\n",
              "  </thead>\n",
              "  <tbody>\n",
              "    <tr>\n",
              "      <th>1122</th>\n",
              "      <td>995</td>\n",
              "      <td>Altenwerth LLC</td>\n",
              "      <td>13/09/2024</td>\n",
              "      <td>NaN</td>\n",
              "      <td>NaN</td>\n",
              "    </tr>\n",
              "    <tr>\n",
              "      <th>1121</th>\n",
              "      <td>995</td>\n",
              "      <td>Altenwerth LLC</td>\n",
              "      <td>13/09/2024</td>\n",
              "      <td>NaN</td>\n",
              "      <td>NaN</td>\n",
              "    </tr>\n",
              "    <tr>\n",
              "      <th>811</th>\n",
              "      <td>726</td>\n",
              "      <td>Altenwerth, Blanda and Waelchi</td>\n",
              "      <td>28/09/2024</td>\n",
              "      <td>1.0</td>\n",
              "      <td>Proin leo odio, porttitor id, consequat in, co...</td>\n",
              "    </tr>\n",
              "    <tr>\n",
              "      <th>812</th>\n",
              "      <td>726</td>\n",
              "      <td>Altenwerth, Blanda and Waelchi</td>\n",
              "      <td>28/09/2024</td>\n",
              "      <td>1.0</td>\n",
              "      <td>Proin leo odio, porttitor id, consequat in, co...</td>\n",
              "    </tr>\n",
              "    <tr>\n",
              "      <th>187</th>\n",
              "      <td>172</td>\n",
              "      <td>Altenwerth, Reichert and Mills</td>\n",
              "      <td>07/08/2024</td>\n",
              "      <td>3.0</td>\n",
              "      <td>Proin eu mi. Nulla ac enim. In tempor, turpis ...</td>\n",
              "    </tr>\n",
              "    <tr>\n",
              "      <th>...</th>\n",
              "      <td>...</td>\n",
              "      <td>...</td>\n",
              "      <td>...</td>\n",
              "      <td>...</td>\n",
              "      <td>...</td>\n",
              "    </tr>\n",
              "    <tr>\n",
              "      <th>469</th>\n",
              "      <td>423</td>\n",
              "      <td>Zemlak Group</td>\n",
              "      <td>13/12/2024</td>\n",
              "      <td>5.0</td>\n",
              "      <td>Duis consequat dui nec nisi volutpat eleifend....</td>\n",
              "    </tr>\n",
              "    <tr>\n",
              "      <th>973</th>\n",
              "      <td>865</td>\n",
              "      <td>Zemlak Inc</td>\n",
              "      <td>29/03/2024</td>\n",
              "      <td>3.0</td>\n",
              "      <td>Fusce consequat. Nulla nisl. Nunc nisl.\\n\\nDui...</td>\n",
              "    </tr>\n",
              "    <tr>\n",
              "      <th>974</th>\n",
              "      <td>865</td>\n",
              "      <td>Zemlak Inc</td>\n",
              "      <td>29/03/2024</td>\n",
              "      <td>3.0</td>\n",
              "      <td>Fusce consequat. Nulla nisl. Nunc nisl.\\n\\nDui...</td>\n",
              "    </tr>\n",
              "    <tr>\n",
              "      <th>512</th>\n",
              "      <td>459</td>\n",
              "      <td>Zulauf LLC</td>\n",
              "      <td>29/04/2024</td>\n",
              "      <td>5.0</td>\n",
              "      <td>NaN</td>\n",
              "    </tr>\n",
              "    <tr>\n",
              "      <th>511</th>\n",
              "      <td>459</td>\n",
              "      <td>Zulauf LLC</td>\n",
              "      <td>29/04/2024</td>\n",
              "      <td>5.0</td>\n",
              "      <td>NaN</td>\n",
              "    </tr>\n",
              "  </tbody>\n",
              "</table>\n",
              "<p>256 rows × 5 columns</p>\n",
              "</div>\n",
              "    <div class=\"colab-df-buttons\">\n",
              "\n",
              "  <div class=\"colab-df-container\">\n",
              "    <button class=\"colab-df-convert\" onclick=\"convertToInteractive('df-388d6f5a-9790-487d-92e1-55c09493a10c')\"\n",
              "            title=\"Convert this dataframe to an interactive table.\"\n",
              "            style=\"display:none;\">\n",
              "\n",
              "  <svg xmlns=\"http://www.w3.org/2000/svg\" height=\"24px\" viewBox=\"0 -960 960 960\">\n",
              "    <path d=\"M120-120v-720h720v720H120Zm60-500h600v-160H180v160Zm220 220h160v-160H400v160Zm0 220h160v-160H400v160ZM180-400h160v-160H180v160Zm440 0h160v-160H620v160ZM180-180h160v-160H180v160Zm440 0h160v-160H620v160Z\"/>\n",
              "  </svg>\n",
              "    </button>\n",
              "\n",
              "  <style>\n",
              "    .colab-df-container {\n",
              "      display:flex;\n",
              "      gap: 12px;\n",
              "    }\n",
              "\n",
              "    .colab-df-convert {\n",
              "      background-color: #E8F0FE;\n",
              "      border: none;\n",
              "      border-radius: 50%;\n",
              "      cursor: pointer;\n",
              "      display: none;\n",
              "      fill: #1967D2;\n",
              "      height: 32px;\n",
              "      padding: 0 0 0 0;\n",
              "      width: 32px;\n",
              "    }\n",
              "\n",
              "    .colab-df-convert:hover {\n",
              "      background-color: #E2EBFA;\n",
              "      box-shadow: 0px 1px 2px rgba(60, 64, 67, 0.3), 0px 1px 3px 1px rgba(60, 64, 67, 0.15);\n",
              "      fill: #174EA6;\n",
              "    }\n",
              "\n",
              "    .colab-df-buttons div {\n",
              "      margin-bottom: 4px;\n",
              "    }\n",
              "\n",
              "    [theme=dark] .colab-df-convert {\n",
              "      background-color: #3B4455;\n",
              "      fill: #D2E3FC;\n",
              "    }\n",
              "\n",
              "    [theme=dark] .colab-df-convert:hover {\n",
              "      background-color: #434B5C;\n",
              "      box-shadow: 0px 1px 3px 1px rgba(0, 0, 0, 0.15);\n",
              "      filter: drop-shadow(0px 1px 2px rgba(0, 0, 0, 0.3));\n",
              "      fill: #FFFFFF;\n",
              "    }\n",
              "  </style>\n",
              "\n",
              "    <script>\n",
              "      const buttonEl =\n",
              "        document.querySelector('#df-388d6f5a-9790-487d-92e1-55c09493a10c button.colab-df-convert');\n",
              "      buttonEl.style.display =\n",
              "        google.colab.kernel.accessAllowed ? 'block' : 'none';\n",
              "\n",
              "      async function convertToInteractive(key) {\n",
              "        const element = document.querySelector('#df-388d6f5a-9790-487d-92e1-55c09493a10c');\n",
              "        const dataTable =\n",
              "          await google.colab.kernel.invokeFunction('convertToInteractive',\n",
              "                                                    [key], {});\n",
              "        if (!dataTable) return;\n",
              "\n",
              "        const docLinkHtml = 'Like what you see? Visit the ' +\n",
              "          '<a target=\"_blank\" href=https://colab.research.google.com/notebooks/data_table.ipynb>data table notebook</a>'\n",
              "          + ' to learn more about interactive tables.';\n",
              "        element.innerHTML = '';\n",
              "        dataTable['output_type'] = 'display_data';\n",
              "        await google.colab.output.renderOutput(dataTable, element);\n",
              "        const docLink = document.createElement('div');\n",
              "        docLink.innerHTML = docLinkHtml;\n",
              "        element.appendChild(docLink);\n",
              "      }\n",
              "    </script>\n",
              "  </div>\n",
              "\n",
              "\n",
              "    <div id=\"df-223ce5df-dcac-461d-8f58-1c9c65d3e22b\">\n",
              "      <button class=\"colab-df-quickchart\" onclick=\"quickchart('df-223ce5df-dcac-461d-8f58-1c9c65d3e22b')\"\n",
              "                title=\"Suggest charts\"\n",
              "                style=\"display:none;\">\n",
              "\n",
              "<svg xmlns=\"http://www.w3.org/2000/svg\" height=\"24px\"viewBox=\"0 0 24 24\"\n",
              "     width=\"24px\">\n",
              "    <g>\n",
              "        <path d=\"M19 3H5c-1.1 0-2 .9-2 2v14c0 1.1.9 2 2 2h14c1.1 0 2-.9 2-2V5c0-1.1-.9-2-2-2zM9 17H7v-7h2v7zm4 0h-2V7h2v10zm4 0h-2v-4h2v4z\"/>\n",
              "    </g>\n",
              "</svg>\n",
              "      </button>\n",
              "\n",
              "<style>\n",
              "  .colab-df-quickchart {\n",
              "      --bg-color: #E8F0FE;\n",
              "      --fill-color: #1967D2;\n",
              "      --hover-bg-color: #E2EBFA;\n",
              "      --hover-fill-color: #174EA6;\n",
              "      --disabled-fill-color: #AAA;\n",
              "      --disabled-bg-color: #DDD;\n",
              "  }\n",
              "\n",
              "  [theme=dark] .colab-df-quickchart {\n",
              "      --bg-color: #3B4455;\n",
              "      --fill-color: #D2E3FC;\n",
              "      --hover-bg-color: #434B5C;\n",
              "      --hover-fill-color: #FFFFFF;\n",
              "      --disabled-bg-color: #3B4455;\n",
              "      --disabled-fill-color: #666;\n",
              "  }\n",
              "\n",
              "  .colab-df-quickchart {\n",
              "    background-color: var(--bg-color);\n",
              "    border: none;\n",
              "    border-radius: 50%;\n",
              "    cursor: pointer;\n",
              "    display: none;\n",
              "    fill: var(--fill-color);\n",
              "    height: 32px;\n",
              "    padding: 0;\n",
              "    width: 32px;\n",
              "  }\n",
              "\n",
              "  .colab-df-quickchart:hover {\n",
              "    background-color: var(--hover-bg-color);\n",
              "    box-shadow: 0 1px 2px rgba(60, 64, 67, 0.3), 0 1px 3px 1px rgba(60, 64, 67, 0.15);\n",
              "    fill: var(--button-hover-fill-color);\n",
              "  }\n",
              "\n",
              "  .colab-df-quickchart-complete:disabled,\n",
              "  .colab-df-quickchart-complete:disabled:hover {\n",
              "    background-color: var(--disabled-bg-color);\n",
              "    fill: var(--disabled-fill-color);\n",
              "    box-shadow: none;\n",
              "  }\n",
              "\n",
              "  .colab-df-spinner {\n",
              "    border: 2px solid var(--fill-color);\n",
              "    border-color: transparent;\n",
              "    border-bottom-color: var(--fill-color);\n",
              "    animation:\n",
              "      spin 1s steps(1) infinite;\n",
              "  }\n",
              "\n",
              "  @keyframes spin {\n",
              "    0% {\n",
              "      border-color: transparent;\n",
              "      border-bottom-color: var(--fill-color);\n",
              "      border-left-color: var(--fill-color);\n",
              "    }\n",
              "    20% {\n",
              "      border-color: transparent;\n",
              "      border-left-color: var(--fill-color);\n",
              "      border-top-color: var(--fill-color);\n",
              "    }\n",
              "    30% {\n",
              "      border-color: transparent;\n",
              "      border-left-color: var(--fill-color);\n",
              "      border-top-color: var(--fill-color);\n",
              "      border-right-color: var(--fill-color);\n",
              "    }\n",
              "    40% {\n",
              "      border-color: transparent;\n",
              "      border-right-color: var(--fill-color);\n",
              "      border-top-color: var(--fill-color);\n",
              "    }\n",
              "    60% {\n",
              "      border-color: transparent;\n",
              "      border-right-color: var(--fill-color);\n",
              "    }\n",
              "    80% {\n",
              "      border-color: transparent;\n",
              "      border-right-color: var(--fill-color);\n",
              "      border-bottom-color: var(--fill-color);\n",
              "    }\n",
              "    90% {\n",
              "      border-color: transparent;\n",
              "      border-bottom-color: var(--fill-color);\n",
              "    }\n",
              "  }\n",
              "</style>\n",
              "\n",
              "      <script>\n",
              "        async function quickchart(key) {\n",
              "          const quickchartButtonEl =\n",
              "            document.querySelector('#' + key + ' button');\n",
              "          quickchartButtonEl.disabled = true;  // To prevent multiple clicks.\n",
              "          quickchartButtonEl.classList.add('colab-df-spinner');\n",
              "          try {\n",
              "            const charts = await google.colab.kernel.invokeFunction(\n",
              "                'suggestCharts', [key], {});\n",
              "          } catch (error) {\n",
              "            console.error('Error during call to suggestCharts:', error);\n",
              "          }\n",
              "          quickchartButtonEl.classList.remove('colab-df-spinner');\n",
              "          quickchartButtonEl.classList.add('colab-df-quickchart-complete');\n",
              "        }\n",
              "        (() => {\n",
              "          let quickchartButtonEl =\n",
              "            document.querySelector('#df-223ce5df-dcac-461d-8f58-1c9c65d3e22b button');\n",
              "          quickchartButtonEl.style.display =\n",
              "            google.colab.kernel.accessAllowed ? 'block' : 'none';\n",
              "        })();\n",
              "      </script>\n",
              "    </div>\n",
              "\n",
              "    </div>\n",
              "  </div>\n"
            ],
            "application/vnd.google.colaboratory.intrinsic+json": {
              "type": "dataframe",
              "repr_error": "0"
            }
          },
          "metadata": {},
          "execution_count": 18
        }
      ]
    },
    {
      "cell_type": "code",
      "source": [
        "# Aplicar filtros\n",
        "df_satis[df_satis['Empresa'] == \"Keebler Inc\"]"
      ],
      "metadata": {
        "id": "F6kQASVog0V0",
        "colab": {
          "base_uri": "https://localhost:8080/",
          "height": 112
        },
        "outputId": "904417ec-4019-4056-aa61-9f94812d8403"
      },
      "execution_count": 19,
      "outputs": [
        {
          "output_type": "execute_result",
          "data": {
            "text/plain": [
              "      id      Empresa       Fecha  Calificación  \\\n",
              "4      5  Keebler Inc  12/01/2024           4.0   \n",
              "636  570  Keebler Inc  28/07/2024           5.0   \n",
              "\n",
              "                                           Comentarios  \n",
              "4    Integer ac leo. Pellentesque ultrices mattis o...  \n",
              "636  Vestibulum ac est lacinia nisi venenatis trist...  "
            ],
            "text/html": [
              "\n",
              "  <div id=\"df-8e4d59c3-1e8b-4790-97a6-38016e2af2aa\" class=\"colab-df-container\">\n",
              "    <div>\n",
              "<style scoped>\n",
              "    .dataframe tbody tr th:only-of-type {\n",
              "        vertical-align: middle;\n",
              "    }\n",
              "\n",
              "    .dataframe tbody tr th {\n",
              "        vertical-align: top;\n",
              "    }\n",
              "\n",
              "    .dataframe thead th {\n",
              "        text-align: right;\n",
              "    }\n",
              "</style>\n",
              "<table border=\"1\" class=\"dataframe\">\n",
              "  <thead>\n",
              "    <tr style=\"text-align: right;\">\n",
              "      <th></th>\n",
              "      <th>id</th>\n",
              "      <th>Empresa</th>\n",
              "      <th>Fecha</th>\n",
              "      <th>Calificación</th>\n",
              "      <th>Comentarios</th>\n",
              "    </tr>\n",
              "  </thead>\n",
              "  <tbody>\n",
              "    <tr>\n",
              "      <th>4</th>\n",
              "      <td>5</td>\n",
              "      <td>Keebler Inc</td>\n",
              "      <td>12/01/2024</td>\n",
              "      <td>4.0</td>\n",
              "      <td>Integer ac leo. Pellentesque ultrices mattis o...</td>\n",
              "    </tr>\n",
              "    <tr>\n",
              "      <th>636</th>\n",
              "      <td>570</td>\n",
              "      <td>Keebler Inc</td>\n",
              "      <td>28/07/2024</td>\n",
              "      <td>5.0</td>\n",
              "      <td>Vestibulum ac est lacinia nisi venenatis trist...</td>\n",
              "    </tr>\n",
              "  </tbody>\n",
              "</table>\n",
              "</div>\n",
              "    <div class=\"colab-df-buttons\">\n",
              "\n",
              "  <div class=\"colab-df-container\">\n",
              "    <button class=\"colab-df-convert\" onclick=\"convertToInteractive('df-8e4d59c3-1e8b-4790-97a6-38016e2af2aa')\"\n",
              "            title=\"Convert this dataframe to an interactive table.\"\n",
              "            style=\"display:none;\">\n",
              "\n",
              "  <svg xmlns=\"http://www.w3.org/2000/svg\" height=\"24px\" viewBox=\"0 -960 960 960\">\n",
              "    <path d=\"M120-120v-720h720v720H120Zm60-500h600v-160H180v160Zm220 220h160v-160H400v160Zm0 220h160v-160H400v160ZM180-400h160v-160H180v160Zm440 0h160v-160H620v160ZM180-180h160v-160H180v160Zm440 0h160v-160H620v160Z\"/>\n",
              "  </svg>\n",
              "    </button>\n",
              "\n",
              "  <style>\n",
              "    .colab-df-container {\n",
              "      display:flex;\n",
              "      gap: 12px;\n",
              "    }\n",
              "\n",
              "    .colab-df-convert {\n",
              "      background-color: #E8F0FE;\n",
              "      border: none;\n",
              "      border-radius: 50%;\n",
              "      cursor: pointer;\n",
              "      display: none;\n",
              "      fill: #1967D2;\n",
              "      height: 32px;\n",
              "      padding: 0 0 0 0;\n",
              "      width: 32px;\n",
              "    }\n",
              "\n",
              "    .colab-df-convert:hover {\n",
              "      background-color: #E2EBFA;\n",
              "      box-shadow: 0px 1px 2px rgba(60, 64, 67, 0.3), 0px 1px 3px 1px rgba(60, 64, 67, 0.15);\n",
              "      fill: #174EA6;\n",
              "    }\n",
              "\n",
              "    .colab-df-buttons div {\n",
              "      margin-bottom: 4px;\n",
              "    }\n",
              "\n",
              "    [theme=dark] .colab-df-convert {\n",
              "      background-color: #3B4455;\n",
              "      fill: #D2E3FC;\n",
              "    }\n",
              "\n",
              "    [theme=dark] .colab-df-convert:hover {\n",
              "      background-color: #434B5C;\n",
              "      box-shadow: 0px 1px 3px 1px rgba(0, 0, 0, 0.15);\n",
              "      filter: drop-shadow(0px 1px 2px rgba(0, 0, 0, 0.3));\n",
              "      fill: #FFFFFF;\n",
              "    }\n",
              "  </style>\n",
              "\n",
              "    <script>\n",
              "      const buttonEl =\n",
              "        document.querySelector('#df-8e4d59c3-1e8b-4790-97a6-38016e2af2aa button.colab-df-convert');\n",
              "      buttonEl.style.display =\n",
              "        google.colab.kernel.accessAllowed ? 'block' : 'none';\n",
              "\n",
              "      async function convertToInteractive(key) {\n",
              "        const element = document.querySelector('#df-8e4d59c3-1e8b-4790-97a6-38016e2af2aa');\n",
              "        const dataTable =\n",
              "          await google.colab.kernel.invokeFunction('convertToInteractive',\n",
              "                                                    [key], {});\n",
              "        if (!dataTable) return;\n",
              "\n",
              "        const docLinkHtml = 'Like what you see? Visit the ' +\n",
              "          '<a target=\"_blank\" href=https://colab.research.google.com/notebooks/data_table.ipynb>data table notebook</a>'\n",
              "          + ' to learn more about interactive tables.';\n",
              "        element.innerHTML = '';\n",
              "        dataTable['output_type'] = 'display_data';\n",
              "        await google.colab.output.renderOutput(dataTable, element);\n",
              "        const docLink = document.createElement('div');\n",
              "        docLink.innerHTML = docLinkHtml;\n",
              "        element.appendChild(docLink);\n",
              "      }\n",
              "    </script>\n",
              "  </div>\n",
              "\n",
              "\n",
              "    <div id=\"df-8945e343-2cb3-44c9-9d32-8ad6ab1c3fc8\">\n",
              "      <button class=\"colab-df-quickchart\" onclick=\"quickchart('df-8945e343-2cb3-44c9-9d32-8ad6ab1c3fc8')\"\n",
              "                title=\"Suggest charts\"\n",
              "                style=\"display:none;\">\n",
              "\n",
              "<svg xmlns=\"http://www.w3.org/2000/svg\" height=\"24px\"viewBox=\"0 0 24 24\"\n",
              "     width=\"24px\">\n",
              "    <g>\n",
              "        <path d=\"M19 3H5c-1.1 0-2 .9-2 2v14c0 1.1.9 2 2 2h14c1.1 0 2-.9 2-2V5c0-1.1-.9-2-2-2zM9 17H7v-7h2v7zm4 0h-2V7h2v10zm4 0h-2v-4h2v4z\"/>\n",
              "    </g>\n",
              "</svg>\n",
              "      </button>\n",
              "\n",
              "<style>\n",
              "  .colab-df-quickchart {\n",
              "      --bg-color: #E8F0FE;\n",
              "      --fill-color: #1967D2;\n",
              "      --hover-bg-color: #E2EBFA;\n",
              "      --hover-fill-color: #174EA6;\n",
              "      --disabled-fill-color: #AAA;\n",
              "      --disabled-bg-color: #DDD;\n",
              "  }\n",
              "\n",
              "  [theme=dark] .colab-df-quickchart {\n",
              "      --bg-color: #3B4455;\n",
              "      --fill-color: #D2E3FC;\n",
              "      --hover-bg-color: #434B5C;\n",
              "      --hover-fill-color: #FFFFFF;\n",
              "      --disabled-bg-color: #3B4455;\n",
              "      --disabled-fill-color: #666;\n",
              "  }\n",
              "\n",
              "  .colab-df-quickchart {\n",
              "    background-color: var(--bg-color);\n",
              "    border: none;\n",
              "    border-radius: 50%;\n",
              "    cursor: pointer;\n",
              "    display: none;\n",
              "    fill: var(--fill-color);\n",
              "    height: 32px;\n",
              "    padding: 0;\n",
              "    width: 32px;\n",
              "  }\n",
              "\n",
              "  .colab-df-quickchart:hover {\n",
              "    background-color: var(--hover-bg-color);\n",
              "    box-shadow: 0 1px 2px rgba(60, 64, 67, 0.3), 0 1px 3px 1px rgba(60, 64, 67, 0.15);\n",
              "    fill: var(--button-hover-fill-color);\n",
              "  }\n",
              "\n",
              "  .colab-df-quickchart-complete:disabled,\n",
              "  .colab-df-quickchart-complete:disabled:hover {\n",
              "    background-color: var(--disabled-bg-color);\n",
              "    fill: var(--disabled-fill-color);\n",
              "    box-shadow: none;\n",
              "  }\n",
              "\n",
              "  .colab-df-spinner {\n",
              "    border: 2px solid var(--fill-color);\n",
              "    border-color: transparent;\n",
              "    border-bottom-color: var(--fill-color);\n",
              "    animation:\n",
              "      spin 1s steps(1) infinite;\n",
              "  }\n",
              "\n",
              "  @keyframes spin {\n",
              "    0% {\n",
              "      border-color: transparent;\n",
              "      border-bottom-color: var(--fill-color);\n",
              "      border-left-color: var(--fill-color);\n",
              "    }\n",
              "    20% {\n",
              "      border-color: transparent;\n",
              "      border-left-color: var(--fill-color);\n",
              "      border-top-color: var(--fill-color);\n",
              "    }\n",
              "    30% {\n",
              "      border-color: transparent;\n",
              "      border-left-color: var(--fill-color);\n",
              "      border-top-color: var(--fill-color);\n",
              "      border-right-color: var(--fill-color);\n",
              "    }\n",
              "    40% {\n",
              "      border-color: transparent;\n",
              "      border-right-color: var(--fill-color);\n",
              "      border-top-color: var(--fill-color);\n",
              "    }\n",
              "    60% {\n",
              "      border-color: transparent;\n",
              "      border-right-color: var(--fill-color);\n",
              "    }\n",
              "    80% {\n",
              "      border-color: transparent;\n",
              "      border-right-color: var(--fill-color);\n",
              "      border-bottom-color: var(--fill-color);\n",
              "    }\n",
              "    90% {\n",
              "      border-color: transparent;\n",
              "      border-bottom-color: var(--fill-color);\n",
              "    }\n",
              "  }\n",
              "</style>\n",
              "\n",
              "      <script>\n",
              "        async function quickchart(key) {\n",
              "          const quickchartButtonEl =\n",
              "            document.querySelector('#' + key + ' button');\n",
              "          quickchartButtonEl.disabled = true;  // To prevent multiple clicks.\n",
              "          quickchartButtonEl.classList.add('colab-df-spinner');\n",
              "          try {\n",
              "            const charts = await google.colab.kernel.invokeFunction(\n",
              "                'suggestCharts', [key], {});\n",
              "          } catch (error) {\n",
              "            console.error('Error during call to suggestCharts:', error);\n",
              "          }\n",
              "          quickchartButtonEl.classList.remove('colab-df-spinner');\n",
              "          quickchartButtonEl.classList.add('colab-df-quickchart-complete');\n",
              "        }\n",
              "        (() => {\n",
              "          let quickchartButtonEl =\n",
              "            document.querySelector('#df-8945e343-2cb3-44c9-9d32-8ad6ab1c3fc8 button');\n",
              "          quickchartButtonEl.style.display =\n",
              "            google.colab.kernel.accessAllowed ? 'block' : 'none';\n",
              "        })();\n",
              "      </script>\n",
              "    </div>\n",
              "\n",
              "    </div>\n",
              "  </div>\n"
            ],
            "application/vnd.google.colaboratory.intrinsic+json": {
              "type": "dataframe",
              "summary": "{\n  \"name\": \"df_satis[df_satis['Empresa'] == \\\"Keebler Inc\\\"]\",\n  \"rows\": 2,\n  \"fields\": [\n    {\n      \"column\": \"id\",\n      \"properties\": {\n        \"dtype\": \"number\",\n        \"std\": 399,\n        \"min\": 5,\n        \"max\": 570,\n        \"num_unique_values\": 2,\n        \"samples\": [\n          570,\n          5\n        ],\n        \"semantic_type\": \"\",\n        \"description\": \"\"\n      }\n    },\n    {\n      \"column\": \"Empresa\",\n      \"properties\": {\n        \"dtype\": \"string\",\n        \"num_unique_values\": 1,\n        \"samples\": [\n          \"Keebler Inc\"\n        ],\n        \"semantic_type\": \"\",\n        \"description\": \"\"\n      }\n    },\n    {\n      \"column\": \"Fecha\",\n      \"properties\": {\n        \"dtype\": \"string\",\n        \"num_unique_values\": 2,\n        \"samples\": [\n          \"28/07/2024\"\n        ],\n        \"semantic_type\": \"\",\n        \"description\": \"\"\n      }\n    },\n    {\n      \"column\": \"Calificaci\\u00f3n\",\n      \"properties\": {\n        \"dtype\": \"number\",\n        \"std\": 0.7071067811865476,\n        \"min\": 4.0,\n        \"max\": 5.0,\n        \"num_unique_values\": 2,\n        \"samples\": [\n          5.0\n        ],\n        \"semantic_type\": \"\",\n        \"description\": \"\"\n      }\n    },\n    {\n      \"column\": \"Comentarios\",\n      \"properties\": {\n        \"dtype\": \"string\",\n        \"num_unique_values\": 2,\n        \"samples\": [\n          \"Vestibulum ac est lacinia nisi venenatis tristique. Fusce congue, diam id ornare imperdiet, sapien urna pretium nisl, ut volutpat sapien arcu sed augue. Aliquam erat volutpat.\\n\\nIn congue. Etiam justo. Etiam pretium iaculis justo.\"\n        ],\n        \"semantic_type\": \"\",\n        \"description\": \"\"\n      }\n    }\n  ]\n}"
            }
          },
          "metadata": {},
          "execution_count": 19
        }
      ]
    },
    {
      "cell_type": "code",
      "source": [
        "df_satis[df_satis.duplicated(subset=[\"Empresa\", \"Fecha\"],keep=False)].sort_values(by='id')"
      ],
      "metadata": {
        "collapsed": true,
        "id": "F1Zh35WLasP_",
        "colab": {
          "base_uri": "https://localhost:8080/",
          "height": 424
        },
        "outputId": "0d4e3da8-4ac2-4a2e-f811-618ff034aab6"
      },
      "execution_count": 20,
      "outputs": [
        {
          "output_type": "execute_result",
          "data": {
            "text/plain": [
              "       id                          Empresa       Fecha  Calificación  \\\n",
              "9      10                     Legros-Olson  12/11/2024           5.0   \n",
              "10     10                     Legros-Olson  12/11/2024           5.0   \n",
              "11     11                     Harris-Davis  13/11/2024           1.0   \n",
              "12     11                     Harris-Davis  13/11/2024           1.0   \n",
              "17     16  White, Balistreri and Daugherty  29/06/2024           5.0   \n",
              "...   ...                              ...         ...           ...   \n",
              "1109  984  Strosin, Raynor and Oberbrunner  14/02/2024           1.0   \n",
              "1117  992               Donnelly-Bashirian  14/03/2024           NaN   \n",
              "1118  992               Donnelly-Bashirian  14/03/2024           NaN   \n",
              "1121  995                   Altenwerth LLC  13/09/2024           NaN   \n",
              "1122  995                   Altenwerth LLC  13/09/2024           NaN   \n",
              "\n",
              "                                            Comentarios  \n",
              "9                                                   NaN  \n",
              "10                                                  NaN  \n",
              "11    Nullam sit amet turpis elementum ligula vehicu...  \n",
              "12    Nullam sit amet turpis elementum ligula vehicu...  \n",
              "17                                                  NaN  \n",
              "...                                                 ...  \n",
              "1109  Morbi porttitor lorem id ligula. Suspendisse o...  \n",
              "1117  Nullam porttitor lacus at turpis. Donec posuer...  \n",
              "1118  Nullam porttitor lacus at turpis. Donec posuer...  \n",
              "1121                                                NaN  \n",
              "1122                                                NaN  \n",
              "\n",
              "[256 rows x 5 columns]"
            ],
            "text/html": [
              "\n",
              "  <div id=\"df-b09bebb2-d005-4359-a1b9-96b86dba5bbe\" class=\"colab-df-container\">\n",
              "    <div>\n",
              "<style scoped>\n",
              "    .dataframe tbody tr th:only-of-type {\n",
              "        vertical-align: middle;\n",
              "    }\n",
              "\n",
              "    .dataframe tbody tr th {\n",
              "        vertical-align: top;\n",
              "    }\n",
              "\n",
              "    .dataframe thead th {\n",
              "        text-align: right;\n",
              "    }\n",
              "</style>\n",
              "<table border=\"1\" class=\"dataframe\">\n",
              "  <thead>\n",
              "    <tr style=\"text-align: right;\">\n",
              "      <th></th>\n",
              "      <th>id</th>\n",
              "      <th>Empresa</th>\n",
              "      <th>Fecha</th>\n",
              "      <th>Calificación</th>\n",
              "      <th>Comentarios</th>\n",
              "    </tr>\n",
              "  </thead>\n",
              "  <tbody>\n",
              "    <tr>\n",
              "      <th>9</th>\n",
              "      <td>10</td>\n",
              "      <td>Legros-Olson</td>\n",
              "      <td>12/11/2024</td>\n",
              "      <td>5.0</td>\n",
              "      <td>NaN</td>\n",
              "    </tr>\n",
              "    <tr>\n",
              "      <th>10</th>\n",
              "      <td>10</td>\n",
              "      <td>Legros-Olson</td>\n",
              "      <td>12/11/2024</td>\n",
              "      <td>5.0</td>\n",
              "      <td>NaN</td>\n",
              "    </tr>\n",
              "    <tr>\n",
              "      <th>11</th>\n",
              "      <td>11</td>\n",
              "      <td>Harris-Davis</td>\n",
              "      <td>13/11/2024</td>\n",
              "      <td>1.0</td>\n",
              "      <td>Nullam sit amet turpis elementum ligula vehicu...</td>\n",
              "    </tr>\n",
              "    <tr>\n",
              "      <th>12</th>\n",
              "      <td>11</td>\n",
              "      <td>Harris-Davis</td>\n",
              "      <td>13/11/2024</td>\n",
              "      <td>1.0</td>\n",
              "      <td>Nullam sit amet turpis elementum ligula vehicu...</td>\n",
              "    </tr>\n",
              "    <tr>\n",
              "      <th>17</th>\n",
              "      <td>16</td>\n",
              "      <td>White, Balistreri and Daugherty</td>\n",
              "      <td>29/06/2024</td>\n",
              "      <td>5.0</td>\n",
              "      <td>NaN</td>\n",
              "    </tr>\n",
              "    <tr>\n",
              "      <th>...</th>\n",
              "      <td>...</td>\n",
              "      <td>...</td>\n",
              "      <td>...</td>\n",
              "      <td>...</td>\n",
              "      <td>...</td>\n",
              "    </tr>\n",
              "    <tr>\n",
              "      <th>1109</th>\n",
              "      <td>984</td>\n",
              "      <td>Strosin, Raynor and Oberbrunner</td>\n",
              "      <td>14/02/2024</td>\n",
              "      <td>1.0</td>\n",
              "      <td>Morbi porttitor lorem id ligula. Suspendisse o...</td>\n",
              "    </tr>\n",
              "    <tr>\n",
              "      <th>1117</th>\n",
              "      <td>992</td>\n",
              "      <td>Donnelly-Bashirian</td>\n",
              "      <td>14/03/2024</td>\n",
              "      <td>NaN</td>\n",
              "      <td>Nullam porttitor lacus at turpis. Donec posuer...</td>\n",
              "    </tr>\n",
              "    <tr>\n",
              "      <th>1118</th>\n",
              "      <td>992</td>\n",
              "      <td>Donnelly-Bashirian</td>\n",
              "      <td>14/03/2024</td>\n",
              "      <td>NaN</td>\n",
              "      <td>Nullam porttitor lacus at turpis. Donec posuer...</td>\n",
              "    </tr>\n",
              "    <tr>\n",
              "      <th>1121</th>\n",
              "      <td>995</td>\n",
              "      <td>Altenwerth LLC</td>\n",
              "      <td>13/09/2024</td>\n",
              "      <td>NaN</td>\n",
              "      <td>NaN</td>\n",
              "    </tr>\n",
              "    <tr>\n",
              "      <th>1122</th>\n",
              "      <td>995</td>\n",
              "      <td>Altenwerth LLC</td>\n",
              "      <td>13/09/2024</td>\n",
              "      <td>NaN</td>\n",
              "      <td>NaN</td>\n",
              "    </tr>\n",
              "  </tbody>\n",
              "</table>\n",
              "<p>256 rows × 5 columns</p>\n",
              "</div>\n",
              "    <div class=\"colab-df-buttons\">\n",
              "\n",
              "  <div class=\"colab-df-container\">\n",
              "    <button class=\"colab-df-convert\" onclick=\"convertToInteractive('df-b09bebb2-d005-4359-a1b9-96b86dba5bbe')\"\n",
              "            title=\"Convert this dataframe to an interactive table.\"\n",
              "            style=\"display:none;\">\n",
              "\n",
              "  <svg xmlns=\"http://www.w3.org/2000/svg\" height=\"24px\" viewBox=\"0 -960 960 960\">\n",
              "    <path d=\"M120-120v-720h720v720H120Zm60-500h600v-160H180v160Zm220 220h160v-160H400v160Zm0 220h160v-160H400v160ZM180-400h160v-160H180v160Zm440 0h160v-160H620v160ZM180-180h160v-160H180v160Zm440 0h160v-160H620v160Z\"/>\n",
              "  </svg>\n",
              "    </button>\n",
              "\n",
              "  <style>\n",
              "    .colab-df-container {\n",
              "      display:flex;\n",
              "      gap: 12px;\n",
              "    }\n",
              "\n",
              "    .colab-df-convert {\n",
              "      background-color: #E8F0FE;\n",
              "      border: none;\n",
              "      border-radius: 50%;\n",
              "      cursor: pointer;\n",
              "      display: none;\n",
              "      fill: #1967D2;\n",
              "      height: 32px;\n",
              "      padding: 0 0 0 0;\n",
              "      width: 32px;\n",
              "    }\n",
              "\n",
              "    .colab-df-convert:hover {\n",
              "      background-color: #E2EBFA;\n",
              "      box-shadow: 0px 1px 2px rgba(60, 64, 67, 0.3), 0px 1px 3px 1px rgba(60, 64, 67, 0.15);\n",
              "      fill: #174EA6;\n",
              "    }\n",
              "\n",
              "    .colab-df-buttons div {\n",
              "      margin-bottom: 4px;\n",
              "    }\n",
              "\n",
              "    [theme=dark] .colab-df-convert {\n",
              "      background-color: #3B4455;\n",
              "      fill: #D2E3FC;\n",
              "    }\n",
              "\n",
              "    [theme=dark] .colab-df-convert:hover {\n",
              "      background-color: #434B5C;\n",
              "      box-shadow: 0px 1px 3px 1px rgba(0, 0, 0, 0.15);\n",
              "      filter: drop-shadow(0px 1px 2px rgba(0, 0, 0, 0.3));\n",
              "      fill: #FFFFFF;\n",
              "    }\n",
              "  </style>\n",
              "\n",
              "    <script>\n",
              "      const buttonEl =\n",
              "        document.querySelector('#df-b09bebb2-d005-4359-a1b9-96b86dba5bbe button.colab-df-convert');\n",
              "      buttonEl.style.display =\n",
              "        google.colab.kernel.accessAllowed ? 'block' : 'none';\n",
              "\n",
              "      async function convertToInteractive(key) {\n",
              "        const element = document.querySelector('#df-b09bebb2-d005-4359-a1b9-96b86dba5bbe');\n",
              "        const dataTable =\n",
              "          await google.colab.kernel.invokeFunction('convertToInteractive',\n",
              "                                                    [key], {});\n",
              "        if (!dataTable) return;\n",
              "\n",
              "        const docLinkHtml = 'Like what you see? Visit the ' +\n",
              "          '<a target=\"_blank\" href=https://colab.research.google.com/notebooks/data_table.ipynb>data table notebook</a>'\n",
              "          + ' to learn more about interactive tables.';\n",
              "        element.innerHTML = '';\n",
              "        dataTable['output_type'] = 'display_data';\n",
              "        await google.colab.output.renderOutput(dataTable, element);\n",
              "        const docLink = document.createElement('div');\n",
              "        docLink.innerHTML = docLinkHtml;\n",
              "        element.appendChild(docLink);\n",
              "      }\n",
              "    </script>\n",
              "  </div>\n",
              "\n",
              "\n",
              "    <div id=\"df-26b3a142-7fb3-4bdc-8831-a586cb8055c0\">\n",
              "      <button class=\"colab-df-quickchart\" onclick=\"quickchart('df-26b3a142-7fb3-4bdc-8831-a586cb8055c0')\"\n",
              "                title=\"Suggest charts\"\n",
              "                style=\"display:none;\">\n",
              "\n",
              "<svg xmlns=\"http://www.w3.org/2000/svg\" height=\"24px\"viewBox=\"0 0 24 24\"\n",
              "     width=\"24px\">\n",
              "    <g>\n",
              "        <path d=\"M19 3H5c-1.1 0-2 .9-2 2v14c0 1.1.9 2 2 2h14c1.1 0 2-.9 2-2V5c0-1.1-.9-2-2-2zM9 17H7v-7h2v7zm4 0h-2V7h2v10zm4 0h-2v-4h2v4z\"/>\n",
              "    </g>\n",
              "</svg>\n",
              "      </button>\n",
              "\n",
              "<style>\n",
              "  .colab-df-quickchart {\n",
              "      --bg-color: #E8F0FE;\n",
              "      --fill-color: #1967D2;\n",
              "      --hover-bg-color: #E2EBFA;\n",
              "      --hover-fill-color: #174EA6;\n",
              "      --disabled-fill-color: #AAA;\n",
              "      --disabled-bg-color: #DDD;\n",
              "  }\n",
              "\n",
              "  [theme=dark] .colab-df-quickchart {\n",
              "      --bg-color: #3B4455;\n",
              "      --fill-color: #D2E3FC;\n",
              "      --hover-bg-color: #434B5C;\n",
              "      --hover-fill-color: #FFFFFF;\n",
              "      --disabled-bg-color: #3B4455;\n",
              "      --disabled-fill-color: #666;\n",
              "  }\n",
              "\n",
              "  .colab-df-quickchart {\n",
              "    background-color: var(--bg-color);\n",
              "    border: none;\n",
              "    border-radius: 50%;\n",
              "    cursor: pointer;\n",
              "    display: none;\n",
              "    fill: var(--fill-color);\n",
              "    height: 32px;\n",
              "    padding: 0;\n",
              "    width: 32px;\n",
              "  }\n",
              "\n",
              "  .colab-df-quickchart:hover {\n",
              "    background-color: var(--hover-bg-color);\n",
              "    box-shadow: 0 1px 2px rgba(60, 64, 67, 0.3), 0 1px 3px 1px rgba(60, 64, 67, 0.15);\n",
              "    fill: var(--button-hover-fill-color);\n",
              "  }\n",
              "\n",
              "  .colab-df-quickchart-complete:disabled,\n",
              "  .colab-df-quickchart-complete:disabled:hover {\n",
              "    background-color: var(--disabled-bg-color);\n",
              "    fill: var(--disabled-fill-color);\n",
              "    box-shadow: none;\n",
              "  }\n",
              "\n",
              "  .colab-df-spinner {\n",
              "    border: 2px solid var(--fill-color);\n",
              "    border-color: transparent;\n",
              "    border-bottom-color: var(--fill-color);\n",
              "    animation:\n",
              "      spin 1s steps(1) infinite;\n",
              "  }\n",
              "\n",
              "  @keyframes spin {\n",
              "    0% {\n",
              "      border-color: transparent;\n",
              "      border-bottom-color: var(--fill-color);\n",
              "      border-left-color: var(--fill-color);\n",
              "    }\n",
              "    20% {\n",
              "      border-color: transparent;\n",
              "      border-left-color: var(--fill-color);\n",
              "      border-top-color: var(--fill-color);\n",
              "    }\n",
              "    30% {\n",
              "      border-color: transparent;\n",
              "      border-left-color: var(--fill-color);\n",
              "      border-top-color: var(--fill-color);\n",
              "      border-right-color: var(--fill-color);\n",
              "    }\n",
              "    40% {\n",
              "      border-color: transparent;\n",
              "      border-right-color: var(--fill-color);\n",
              "      border-top-color: var(--fill-color);\n",
              "    }\n",
              "    60% {\n",
              "      border-color: transparent;\n",
              "      border-right-color: var(--fill-color);\n",
              "    }\n",
              "    80% {\n",
              "      border-color: transparent;\n",
              "      border-right-color: var(--fill-color);\n",
              "      border-bottom-color: var(--fill-color);\n",
              "    }\n",
              "    90% {\n",
              "      border-color: transparent;\n",
              "      border-bottom-color: var(--fill-color);\n",
              "    }\n",
              "  }\n",
              "</style>\n",
              "\n",
              "      <script>\n",
              "        async function quickchart(key) {\n",
              "          const quickchartButtonEl =\n",
              "            document.querySelector('#' + key + ' button');\n",
              "          quickchartButtonEl.disabled = true;  // To prevent multiple clicks.\n",
              "          quickchartButtonEl.classList.add('colab-df-spinner');\n",
              "          try {\n",
              "            const charts = await google.colab.kernel.invokeFunction(\n",
              "                'suggestCharts', [key], {});\n",
              "          } catch (error) {\n",
              "            console.error('Error during call to suggestCharts:', error);\n",
              "          }\n",
              "          quickchartButtonEl.classList.remove('colab-df-spinner');\n",
              "          quickchartButtonEl.classList.add('colab-df-quickchart-complete');\n",
              "        }\n",
              "        (() => {\n",
              "          let quickchartButtonEl =\n",
              "            document.querySelector('#df-26b3a142-7fb3-4bdc-8831-a586cb8055c0 button');\n",
              "          quickchartButtonEl.style.display =\n",
              "            google.colab.kernel.accessAllowed ? 'block' : 'none';\n",
              "        })();\n",
              "      </script>\n",
              "    </div>\n",
              "\n",
              "    </div>\n",
              "  </div>\n"
            ],
            "application/vnd.google.colaboratory.intrinsic+json": {
              "type": "dataframe",
              "summary": "{\n  \"name\": \"df_satis[df_satis\",\n  \"rows\": 256,\n  \"fields\": [\n    {\n      \"column\": \"id\",\n      \"properties\": {\n        \"dtype\": \"number\",\n        \"std\": 286,\n        \"min\": 10,\n        \"max\": 995,\n        \"num_unique_values\": 128,\n        \"samples\": [\n          463,\n          333,\n          209\n        ],\n        \"semantic_type\": \"\",\n        \"description\": \"\"\n      }\n    },\n    {\n      \"column\": \"Empresa\",\n      \"properties\": {\n        \"dtype\": \"string\",\n        \"num_unique_values\": 128,\n        \"samples\": [\n          \"Wuckert, Leffler and Schneider\",\n          \"Ledner, Waters and Ledner\",\n          \"Schoen, Metz and Hills\"\n        ],\n        \"semantic_type\": \"\",\n        \"description\": \"\"\n      }\n    },\n    {\n      \"column\": \"Fecha\",\n      \"properties\": {\n        \"dtype\": \"category\",\n        \"num_unique_values\": 45,\n        \"samples\": [\n          \"29/07/2024\",\n          \"07/05/2024\",\n          \"28/10/2024\"\n        ],\n        \"semantic_type\": \"\",\n        \"description\": \"\"\n      }\n    },\n    {\n      \"column\": \"Calificaci\\u00f3n\",\n      \"properties\": {\n        \"dtype\": \"number\",\n        \"std\": 1.4649054694369086,\n        \"min\": 1.0,\n        \"max\": 5.0,\n        \"num_unique_values\": 5,\n        \"samples\": [\n          1.0,\n          4.0,\n          2.0\n        ],\n        \"semantic_type\": \"\",\n        \"description\": \"\"\n      }\n    },\n    {\n      \"column\": \"Comentarios\",\n      \"properties\": {\n        \"dtype\": \"category\",\n        \"num_unique_values\": 66,\n        \"samples\": [\n          \"Maecenas tristique, est et tempus semper, est quam pharetra magna, ac consequat metus sapien ut nunc. Vestibulum ante ipsum primis in faucibus orci luctus et ultrices posuere cubilia Curae; Mauris viverra diam vitae quam. Suspendisse potenti.\\n\\nNullam porttitor lacus at turpis. Donec posuere metus vitae ipsum. Aliquam non mauris.\\n\\nMorbi non lectus. Aliquam sit amet diam in magna bibendum imperdiet. Nullam orci pede, venenatis non, sodales sed, tincidunt eu, felis.\",\n          \"Phasellus sit amet erat. Nulla tempus. Vivamus in felis eu sapien cursus vestibulum.\\n\\nProin eu mi. Nulla ac enim. In tempor, turpis nec euismod scelerisque, quam turpis adipiscing lorem, vitae mattis nibh ligula nec sem.\",\n          \"Nullam sit amet turpis elementum ligula vehicula consequat. Morbi a ipsum. Integer a nibh.\"\n        ],\n        \"semantic_type\": \"\",\n        \"description\": \"\"\n      }\n    }\n  ]\n}"
            }
          },
          "metadata": {},
          "execution_count": 20
        }
      ]
    },
    {
      "cell_type": "code",
      "source": [
        "df_satis[df_satis.duplicated(subset=df_satis.columns[1:],keep=False)].sort_values(by='Empresa')"
      ],
      "metadata": {
        "id": "dw_lDCa6Rmb6"
      },
      "execution_count": null,
      "outputs": []
    },
    {
      "cell_type": "markdown",
      "source": [
        "### Dataframe Pacientes"
      ],
      "metadata": {
        "id": "7yZ0UKPiZNWw"
      }
    },
    {
      "cell_type": "code",
      "source": [
        "# Veamos cuantos registros duplicados hay\n",
        "df_pacientes.duplicated().sum()"
      ],
      "metadata": {
        "id": "sTlHqI0sZUo8"
      },
      "execution_count": null,
      "outputs": []
    },
    {
      "cell_type": "code",
      "source": [
        "# Si hay, entonces los listamos (keep, first, last, False)\n",
        "df_pacientes[df_pacientes.duplicated(subset=[\"nombre\"], keep=False)].sort_values(by='nombre')"
      ],
      "metadata": {
        "id": "LXak9CVpS1YK"
      },
      "execution_count": null,
      "outputs": []
    },
    {
      "cell_type": "markdown",
      "source": [
        "### Dataframe Netflix"
      ],
      "metadata": {
        "id": "quNPvQHhcXF6"
      }
    },
    {
      "cell_type": "code",
      "source": [
        "df_netflix.duplicated().sum()"
      ],
      "metadata": {
        "id": "LXuZr1KncYxY"
      },
      "execution_count": null,
      "outputs": []
    },
    {
      "cell_type": "code",
      "source": [
        "df_netflix[df_netflix.duplicated()]"
      ],
      "metadata": {
        "id": "vhKHF-2mcc-c"
      },
      "execution_count": null,
      "outputs": []
    },
    {
      "cell_type": "markdown",
      "source": [
        "## Tratamiento de datos duplicados\n",
        "[Pandas drop_duplicates()](https://pandas.pydata.org/docs/reference/api/pandas.DataFrame.drop_duplicates.html)"
      ],
      "metadata": {
        "id": "vDYh-QrWcrlx"
      }
    },
    {
      "cell_type": "markdown",
      "source": [
        "### Dataset Satis"
      ],
      "metadata": {
        "id": "1Szdxzs2lo9C"
      }
    },
    {
      "cell_type": "code",
      "source": [
        "df_satis.info()"
      ],
      "metadata": {
        "id": "FYxJSeZ9fQkt",
        "colab": {
          "base_uri": "https://localhost:8080/",
          "height": 141
        },
        "outputId": "cc11fe5a-00b2-432f-9ab0-f41917020554"
      },
      "execution_count": 1,
      "outputs": [
        {
          "output_type": "error",
          "ename": "NameError",
          "evalue": "name 'df_satis' is not defined",
          "traceback": [
            "\u001b[0;31m---------------------------------------------------------------------------\u001b[0m",
            "\u001b[0;31mNameError\u001b[0m                                 Traceback (most recent call last)",
            "\u001b[0;32m/tmp/ipython-input-939928816.py\u001b[0m in \u001b[0;36m<cell line: 0>\u001b[0;34m()\u001b[0m\n\u001b[0;32m----> 1\u001b[0;31m \u001b[0mdf_satis\u001b[0m\u001b[0;34m.\u001b[0m\u001b[0minfo\u001b[0m\u001b[0;34m(\u001b[0m\u001b[0;34m)\u001b[0m\u001b[0;34m\u001b[0m\u001b[0;34m\u001b[0m\u001b[0m\n\u001b[0m",
            "\u001b[0;31mNameError\u001b[0m: name 'df_satis' is not defined"
          ]
        }
      ]
    },
    {
      "cell_type": "code",
      "source": [
        "df_satis_pp1 = df_satis.drop_duplicates(subset=[\"Empresa\", \"Calificación\"], keep=\"first\")\n",
        "df_satis_pp1.info()"
      ],
      "metadata": {
        "id": "GvXQPiXSdL1K"
      },
      "execution_count": null,
      "outputs": []
    },
    {
      "cell_type": "code",
      "source": [
        "df_netflix.duplicated().sum()"
      ],
      "metadata": {
        "id": "zDFfjl47NOK7"
      },
      "execution_count": null,
      "outputs": []
    },
    {
      "cell_type": "code",
      "source": [
        "df_satis_pp1[df_satis_pp1.duplicated(subset=[\"Empresa\", \"Calificación\"], keep=False)].sort_values(by='Empresa')\n"
      ],
      "metadata": {
        "id": "j_GtWCfWo_Jg"
      },
      "execution_count": null,
      "outputs": []
    },
    {
      "cell_type": "markdown",
      "source": [
        "## Exploración de datos nulos"
      ],
      "metadata": {
        "id": "UgoJnK5MrB1p"
      }
    },
    {
      "cell_type": "code",
      "source": [
        "df_satis.info()"
      ],
      "metadata": {
        "id": "Fd9KBubBrF3l"
      },
      "execution_count": null,
      "outputs": []
    },
    {
      "cell_type": "code",
      "source": [],
      "metadata": {
        "id": "GO9EkysBF9fq"
      },
      "execution_count": null,
      "outputs": []
    },
    {
      "cell_type": "code",
      "source": [
        "# Ver si hay valores nulos, en general o en columnas especificas\n",
        "#df_satis.isnull().sum()\n",
        "#df_satis[[\"Comentarios\", \"Calificación\"]].isnull().sum()\n",
        "df_satis.isnull().any(axis=1).sum()"
      ],
      "metadata": {
        "id": "GAa6Fu8jrLft"
      },
      "execution_count": null,
      "outputs": []
    },
    {
      "cell_type": "code",
      "source": [
        "# Visualizar los registros con celdas null / NaN\n",
        "df_satis[df_satis.isnull().any(axis=1)][[\"Comentarios\", \"Calificación\"]]"
      ],
      "metadata": {
        "id": "lfLrT3UWrctd"
      },
      "execution_count": null,
      "outputs": []
    },
    {
      "cell_type": "markdown",
      "source": [
        "## Tratamiento de datos nulos"
      ],
      "metadata": {
        "id": "Zi0n5cJ9twro"
      }
    },
    {
      "cell_type": "markdown",
      "source": [
        "### drop"
      ],
      "metadata": {
        "id": "HboQX6EjmoXk"
      }
    },
    {
      "cell_type": "markdown",
      "source": [
        "`dropna` se usa para eliminar registros que contengan datos nulos\n",
        "<BR>\n",
        "[Pandas dropna](https://pandas.pydata.org/docs/reference/api/pandas.DataFrame.dropna.html)\n",
        "\n",
        "* how: para especificar si (any / all) celdas deben tener NaN\n",
        "* thresh: indicar la cantidad de NaN para ejecutar el drop (no se puede combinar con any)\n",
        "* subset: indicar las columnas a evaluar\n",
        "* inplace: si guarda los cambios en el dataframe o retorna una copia"
      ],
      "metadata": {
        "id": "rqqvPnXqDXSz"
      }
    },
    {
      "cell_type": "markdown",
      "source": [
        "Analizar y comparar que sucede cuando aplicamos dropna a todas las columnas o a algunas especificas."
      ],
      "metadata": {
        "id": "cOVL42yRhcd5"
      }
    },
    {
      "cell_type": "code",
      "source": [
        "# Eliminar un registro si alguna las columnas contienen NaA\n",
        "df_satis_pp2 = df_satis.dropna()\n",
        "df_satis_pp2.info()"
      ],
      "metadata": {
        "id": "gcSHOHrzt11p"
      },
      "execution_count": null,
      "outputs": []
    },
    {
      "cell_type": "code",
      "source": [
        "# Eliminar un registro si alguna o tdas las columnas contienen NaA\n",
        "df_satis_pp2 = df_satis.dropna(how=\"all\")\n",
        "df_satis_pp2.info()"
      ],
      "metadata": {
        "id": "Obuej6GHg1xY"
      },
      "execution_count": null,
      "outputs": []
    },
    {
      "cell_type": "code",
      "source": [
        "# Eliminar un registro solo evaluando NaN en las columnas indicadas\n",
        "df_satis_pp2 = df_satis.dropna(subset=[\"Comentarios\", \"Calificación\"])\n",
        "df_satis_pp2.info()"
      ],
      "metadata": {
        "id": "dZhzbrx62Hse"
      },
      "execution_count": null,
      "outputs": []
    },
    {
      "cell_type": "code",
      "source": [
        "# Eliminar una columna si contiene NaN\n",
        "df_satis_pp2 = df_satis.dropna(axis=1) # no accepta subset\n",
        "df_satis_pp2.info()"
      ],
      "metadata": {
        "id": "Nd0sdRmjeHa8"
      },
      "execution_count": null,
      "outputs": []
    },
    {
      "cell_type": "markdown",
      "source": [
        "### fill"
      ],
      "metadata": {
        "id": "Wlrcc3jeDVEh"
      }
    },
    {
      "cell_type": "markdown",
      "source": [
        "`fillna` se utiliza para completar el dato faltante\n",
        "<BR>\n",
        "[Pandas fillna](https://pandas.pydata.org/docs/reference/api/pandas.DataFrame.fillna.html)\n",
        "<BR>\n",
        "* df.fillna(0)  se completa con un valor fijo\n",
        "* df.fillna(method=\"ffill\")  completa con el valor del registro anterior\n",
        "* df.fillna(method=\"bfill\") completa con el valor del registro previo\n",
        "* df[\"col\"].fillna(df[\"col\"].mean()) completa con la media de la columna\n",
        "* df.fillna({\"col1\": 0, \"col2\": \"desconocido\"})"
      ],
      "metadata": {
        "id": "814RqpKuDdYP"
      }
    },
    {
      "cell_type": "markdown",
      "source": [
        "1. completamos con un valor fijo"
      ],
      "metadata": {
        "id": "lkVpokeetAzd"
      }
    },
    {
      "cell_type": "code",
      "source": [
        "# usamos el atributo value con un valor fijo en 0\n",
        "df_satis_pp3 = df_satis.fillna(value = 0)\n",
        "df_satis_pp3.info()"
      ],
      "metadata": {
        "id": "G-Uk5sk3nf2Z"
      },
      "execution_count": null,
      "outputs": []
    },
    {
      "cell_type": "code",
      "source": [
        "# También podríamos usar un diccionario\n",
        "df_satis_pp3 = df_satis.fillna({\"Calificación\": 0, \"Comentarios\": \"Sin dato\"})"
      ],
      "metadata": {
        "id": "J7BqXahzsIXk"
      },
      "execution_count": null,
      "outputs": []
    },
    {
      "cell_type": "code",
      "source": [
        "# listamos los primeros registros\n",
        "df_satis_pp3.head(10)"
      ],
      "metadata": {
        "id": "5l6K3Ch8p3iz"
      },
      "execution_count": null,
      "outputs": []
    },
    {
      "cell_type": "code",
      "source": [
        "# Eventualmente ajustamos el tipo de dato\n",
        "df_satis_pp3 = df_satis_pp3.astype({\"Comentarios\": \"string\"})\n",
        "df_satis_pp3.info()"
      ],
      "metadata": {
        "collapsed": true,
        "id": "kgZc2LqiokLt"
      },
      "execution_count": null,
      "outputs": []
    },
    {
      "cell_type": "code",
      "source": [
        "# Podemos aplicar filtros\n",
        "df_satis_pp3[df_satis_pp3[\"Comentarios\"]==\"0\"]"
      ],
      "metadata": {
        "id": "fg4NNCoCnlMI"
      },
      "execution_count": null,
      "outputs": []
    },
    {
      "cell_type": "markdown",
      "source": [
        "2. Completamos con el valor próximo"
      ],
      "metadata": {
        "id": "NYIeIyXftF9d"
      }
    },
    {
      "cell_type": "code",
      "source": [
        "df_satis_pp3 = df_satis.fillna(method = \"ffill\")\n",
        "df_satis_pp3.info()"
      ],
      "metadata": {
        "id": "gH12WAjWpvRk"
      },
      "execution_count": null,
      "outputs": []
    },
    {
      "cell_type": "markdown",
      "source": [
        "3. Completamos con el valor previo"
      ],
      "metadata": {
        "id": "5BZgmxVmtMH7"
      }
    },
    {
      "cell_type": "code",
      "source": [
        "df_satis_pp3 = df_satis.fillna(method = \"bfill\")\n",
        "df_satis_pp3.info()"
      ],
      "metadata": {
        "id": "RoNmFPentOep"
      },
      "execution_count": null,
      "outputs": []
    },
    {
      "cell_type": "markdown",
      "source": [
        "4. Completamos con la media, meadiana, moda"
      ],
      "metadata": {
        "id": "hpYrnpu5tVuX"
      }
    },
    {
      "cell_type": "code",
      "source": [
        "df_satis_pp3 = df_satis.fillna(df_satis.mean(numeric_only=True))\n",
        "df_satis_pp3.info()"
      ],
      "metadata": {
        "id": "_m_azcEhtZ4D"
      },
      "execution_count": null,
      "outputs": []
    },
    {
      "cell_type": "code",
      "source": [
        "# calcular la media de la columna Calificación\n",
        "media_calif = df_satis[\"Calificación\"].mode()[0] # mean() / median() / mode()[0]\n",
        "\n",
        "# aplicar fillna con diccionario\n",
        "df_satis_pp3 = df_satis.fillna({\n",
        "    \"Calificación\": media_calif,\n",
        "    \"Comentarios\": \"Sin dato\"\n",
        "})"
      ],
      "metadata": {
        "id": "PWILEjXpInLC"
      },
      "execution_count": null,
      "outputs": []
    },
    {
      "cell_type": "code",
      "source": [
        "df_satis_pp3.head(5)"
      ],
      "metadata": {
        "id": "Gsc7wa8Luhuz"
      },
      "execution_count": null,
      "outputs": []
    },
    {
      "cell_type": "markdown",
      "source": [
        "Analicemos el dataset pacientes"
      ],
      "metadata": {
        "id": "irB1hu0SL0zD"
      }
    },
    {
      "cell_type": "code",
      "source": [
        "df_pacientes.info()"
      ],
      "metadata": {
        "id": "sfPx4yl3MSz2"
      },
      "execution_count": null,
      "outputs": []
    },
    {
      "cell_type": "code",
      "source": [
        "# Completamos con la media de la columna\n",
        "df_pacientes_pp1 = df_pacientes.fillna(df_pacientes.mean(numeric_only=True))\n",
        "df_pacientes_pp1.info()"
      ],
      "metadata": {
        "id": "-dpCdJYhMVFD"
      },
      "execution_count": null,
      "outputs": []
    },
    {
      "cell_type": "code",
      "source": [
        "# Completamos con la media de la fila usando lambda\n",
        "\n",
        "# seleccionar solo las columnas d1...d10\n",
        "cols = df_pacientes.columns[1:]   # todas excepto 'nombre'\n",
        "\n",
        "# aplicar moda por fila\n",
        "df_pacientes_pp1[cols] = df_pacientes[cols].apply(\n",
        "    lambda row: row.fillna(row.mean()), axis=1\n",
        ")"
      ],
      "metadata": {
        "id": "EZbSji4PMjRo"
      },
      "execution_count": null,
      "outputs": []
    },
    {
      "cell_type": "code",
      "source": [
        "# Completamos con la media de la fila usando T (traspuesta)\n",
        "df_pacientes_pp1[cols] = df_pacientes[cols].T.fillna(df_pacientes[cols].mean(axis=1)).T"
      ],
      "metadata": {
        "id": "FRGn91HNPUtT"
      },
      "execution_count": null,
      "outputs": []
    },
    {
      "cell_type": "code",
      "source": [
        "#df_pacientes.head()\n",
        "df_pacientes_pp1.head()"
      ],
      "metadata": {
        "id": "5htetQ0ROA1Y"
      },
      "execution_count": null,
      "outputs": []
    },
    {
      "cell_type": "markdown",
      "source": [
        "Veamos el concepto de Traspuesta"
      ],
      "metadata": {
        "id": "INXLSCxaPreV"
      }
    },
    {
      "cell_type": "code",
      "source": [
        "df = pd.DataFrame({\n",
        "    \"A\": [1, 2, 3],\n",
        "    \"B\": [4, 5, 6]\n",
        "})\n",
        "print(\"Original:\")\n",
        "print(df)\n",
        "\n",
        "print(\"\\nTranspuesta:\")\n",
        "print(df.T)"
      ],
      "metadata": {
        "id": "ijYKicyTPvoW"
      },
      "execution_count": null,
      "outputs": []
    },
    {
      "cell_type": "markdown",
      "source": [
        "## Normalización de datos"
      ],
      "metadata": {
        "id": "DaGJeJEJNSy5"
      }
    },
    {
      "cell_type": "markdown",
      "source": [
        "## Ajustar tipo de dato"
      ],
      "metadata": {
        "id": "zqzMRpOvL24q"
      }
    },
    {
      "cell_type": "markdown",
      "source": [
        "### astype()"
      ],
      "metadata": {
        "id": "puSQmvDdP-4l"
      }
    },
    {
      "cell_type": "markdown",
      "source": [
        "* df[\"col\"] = df[\"col\"].astype(int)\n",
        "* df[\"col\"] = df[\"col\"].astype(float)\n",
        "* df[\"col\"] = df[\"col\"].astype(str)"
      ],
      "metadata": {
        "id": "qgJXk5YWQDPg"
      }
    },
    {
      "cell_type": "code",
      "source": [
        "df_satis_pp4 = df_satis.copy()\n",
        "df_satis_pp4[\"Comentarios\"] = df_satis[\"Comentarios\"].astype(\"string\")"
      ],
      "metadata": {
        "id": "YgYCrtZHQNrD"
      },
      "execution_count": null,
      "outputs": []
    },
    {
      "cell_type": "code",
      "source": [
        "df_satis_pp4.info()"
      ],
      "metadata": {
        "id": "jHcS9qJcQCkw"
      },
      "execution_count": null,
      "outputs": []
    },
    {
      "cell_type": "markdown",
      "source": [
        "### to_numeric()"
      ],
      "metadata": {
        "id": "KLdTIJTmQ1BJ"
      }
    },
    {
      "cell_type": "code",
      "source": [
        "pd.to_numeric(df[\"col\"], errors=\"coerce\")"
      ],
      "metadata": {
        "id": "H3ILDagaQ8rt"
      },
      "execution_count": null,
      "outputs": []
    },
    {
      "cell_type": "markdown",
      "source": [
        "### to_datetime()"
      ],
      "metadata": {
        "id": "y536nQ_1GU12"
      }
    },
    {
      "cell_type": "code",
      "source": [
        "type(df_satis[\"Fecha\"][0])\n",
        "df_satis[\"Fecha\"][0]"
      ],
      "metadata": {
        "id": "zScj_SodHWXm"
      },
      "execution_count": null,
      "outputs": []
    },
    {
      "cell_type": "code",
      "source": [
        "# pd.to_datetime(df_satis.Fecha)\n",
        "pd.to_datetime(df_satis[\"Fecha\"], format=\"%d/%m/%Y\")\n"
      ],
      "metadata": {
        "id": "qH0J8NRLGZOK"
      },
      "execution_count": null,
      "outputs": []
    },
    {
      "cell_type": "markdown",
      "source": [
        "## Filtrado de datos"
      ],
      "metadata": {
        "id": "vH7IoUz7Nclh"
      }
    },
    {
      "cell_type": "code",
      "source": [
        "df_satis.info()"
      ],
      "metadata": {
        "id": "G-E9FpFTR07-"
      },
      "execution_count": null,
      "outputs": []
    },
    {
      "cell_type": "code",
      "source": [
        "# Con una sola columna\n",
        "df_satis[\"Empresa\"]"
      ],
      "metadata": {
        "id": "4_86iYp-R0DR"
      },
      "execution_count": null,
      "outputs": []
    },
    {
      "cell_type": "code",
      "source": [
        "# Con varias columnas\n",
        "df_satis[[\"Empresa\", \"Fecha\"]]"
      ],
      "metadata": {
        "id": "ZyrhE8uHR59U"
      },
      "execution_count": null,
      "outputs": []
    },
    {
      "cell_type": "code",
      "source": [
        "df_satis[df_satis[\"Empresa\"] == \"Kuhn-Fay\"]"
      ],
      "metadata": {
        "id": "wL0YWCEhSycC"
      },
      "execution_count": null,
      "outputs": []
    },
    {
      "cell_type": "code",
      "source": [
        "# Con condición\n",
        "df_satis[[(\"Empresa\") ==\"Alpha\" & (\"Comentarios\" > \"3\")]]"
      ],
      "metadata": {
        "id": "TVVA2KMgSEbN"
      },
      "execution_count": null,
      "outputs": []
    }
  ]
}