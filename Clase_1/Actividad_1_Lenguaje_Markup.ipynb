{
  "nbformat": 4,
  "nbformat_minor": 0,
  "metadata": {
    "colab": {
      "provenance": []
    },
    "kernelspec": {
      "name": "python3",
      "display_name": "Python 3"
    },
    "language_info": {
      "name": "python"
    }
  },
  "cells": [
    {
      "cell_type": "markdown",
      "source": [
        "# Actividades"
      ],
      "metadata": {
        "id": "gCJoH7KuEUga"
      }
    },
    {
      "cell_type": "markdown",
      "source": [
        "## Actividad 1"
      ],
      "metadata": {
        "id": "NHa-sP3zJ8Db"
      }
    },
    {
      "cell_type": "markdown",
      "source": [
        "  Creá tu propio bloque de texto. Utiliza:\n",
        "  - formatos de texto\n",
        "  - links\n",
        "  - al menos una imagen de tu carpeta Drive"
      ],
      "metadata": {
        "id": "ZlSXlWj4KAZZ"
      }
    },
    {
      "cell_type": "code",
      "source": [
        "from IPython.display import display, HTML\n",
        "\n",
        "# URL de la imagen\n",
        "url_imagen = \"https://www.google.com/images/branding/googlelogo/2x/googlelogo_color_272x92dp.png\"\n",
        "\n",
        "# Bloque HTML completo como f-string\n",
        "html_texto = f\"\"\"\n",
        "<h1 style=\"color:red;\">Soy MAXIMO ANDRES SIMONETTI</h1>\n",
        "\n",
        "<p>Este es un <b>texto en negrita</b> y un <i>texto en cursiva</i>.</p>\n",
        "\n",
        "<p style=\"color:green;\">Texto verde usando CSS</p>\n",
        "\n",
        "<a href=\"https://www.google.com\" target=\"_blank\">Enlace a Google</a>\n",
        "<br>\n",
        "\n",
        "<img src=\"{url_imagen}\" alt=\"Logo de Google\" width=\"300\">\n",
        "\"\"\"\n",
        "\n",
        "# Mostrar en Colab\n",
        "display(HTML(html_texto))\n"
      ],
      "metadata": {
        "id": "bnobG-nT5SpU",
        "outputId": "bcac01a6-ebc1-42d9-cd9e-227e6b04698f",
        "colab": {
          "base_uri": "https://localhost:8080/",
          "height": 246
        }
      },
      "execution_count": 3,
      "outputs": [
        {
          "output_type": "display_data",
          "data": {
            "text/plain": [
              "<IPython.core.display.HTML object>"
            ],
            "text/html": [
              "\n",
              "<h1 style=\"color:red;\">Soy MAXIMO ANDRES SIMONETTI</h1>\n",
              "\n",
              "<p>Este es un <b>texto en negrita</b> y un <i>texto en cursiva</i>.</p>\n",
              "\n",
              "<p style=\"color:green;\">Texto verde usando CSS</p>\n",
              "\n",
              "<a href=\"https://www.google.com\" target=\"_blank\">Enlace a Google</a>\n",
              "<br>\n",
              "\n",
              "<img src=\"https://www.google.com/images/branding/googlelogo/2x/googlelogo_color_272x92dp.png\" alt=\"Logo de Google\" width=\"300\">\n"
            ]
          },
          "metadata": {}
        }
      ]
    },
    {
      "cell_type": "markdown",
      "source": [
        "## Actividad 2"
      ],
      "metadata": {
        "id": "LTFeKV5uKDPK"
      }
    },
    {
      "cell_type": "code",
      "source": [
        "numero=int(input(\"Ingrese un numero: \"))\n",
        "if numero%2==0:\n",
        "  print(\"El numero es par\")\n",
        "else:\n",
        "  print(\"El numero es impar\")"
      ],
      "metadata": {
        "id": "93dTle458CG0",
        "outputId": "f77a3f71-d959-4bca-8837-c1ce3e0cd648",
        "colab": {
          "base_uri": "https://localhost:8080/"
        }
      },
      "execution_count": 4,
      "outputs": [
        {
          "output_type": "stream",
          "name": "stdout",
          "text": [
            "Ingrese un numero: 20\n",
            "El numero es par\n"
          ]
        }
      ]
    },
    {
      "cell_type": "markdown",
      "source": [
        "Creá un bloque de código con un programa que pida un número por teclado, y responda si es par o impar. Ejecutalo."
      ],
      "metadata": {
        "id": "NfVvRVxMKUu8"
      }
    }
  ]
}